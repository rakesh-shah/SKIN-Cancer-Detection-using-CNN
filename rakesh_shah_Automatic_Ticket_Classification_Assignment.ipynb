{
 "cells": [
  {
   "cell_type": "markdown",
   "metadata": {
    "id": "rhR-ZUkwJrFn"
   },
   "source": [
    "## Problem Statement \n",
    "\n",
    "You need to build a model that is able to classify customer complaints based on the products/services. By doing so, you can segregate these tickets into their relevant categories and, therefore, help in the quick resolution of the issue.\n",
    "\n",
    "You will be doing topic modelling on the <b>.json</b> data provided by the company. Since this data is not labelled, you need to apply NMF to analyse patterns and classify tickets into the following five clusters based on their products/services:\n",
    "\n",
    "* Credit card / Prepaid card\n",
    "\n",
    "* Bank account services\n",
    "\n",
    "* Theft/Dispute reporting\n",
    "\n",
    "* Mortgages/loans\n",
    "\n",
    "* Others \n",
    "\n",
    "\n",
    "With the help of topic modelling, you will be able to map each ticket onto its respective department/category. You can then use this data to train any supervised model such as logistic regression, decision tree or random forest. Using this trained model, you can classify any new customer complaint support ticket into its relevant department."
   ]
  },
  {
   "cell_type": "markdown",
   "metadata": {
    "id": "mcgXVNyaLUFS"
   },
   "source": [
    "## Pipelines that needs to be performed:\n",
    "\n",
    "You need to perform the following eight major tasks to complete the assignment:\n",
    "\n",
    "1.  Data loading\n",
    "\n",
    "2. Text preprocessing\n",
    "\n",
    "3. Exploratory data analysis (EDA)\n",
    "\n",
    "4. Feature extraction\n",
    "\n",
    "5. Topic modelling \n",
    "\n",
    "6. Model building using supervised learning\n",
    "\n",
    "7. Model training and evaluation\n",
    "\n",
    "8. Model inference"
   ]
  },
  {
   "cell_type": "markdown",
   "metadata": {
    "id": "JuLFIymAL58u"
   },
   "source": [
    "## Importing the necessary libraries"
   ]
  },
  {
   "cell_type": "code",
   "execution_count": 400,
   "metadata": {
    "id": "O-Q9pqrcJrFr"
   },
   "outputs": [
    {
     "name": "stdout",
     "output_type": "stream",
     "text": [
      "Defaulting to user installation because normal site-packages is not writeable\n",
      "Requirement already satisfied: plotly in /home/rakeshpc/.local/lib/python3.8/site-packages (5.18.0)\n",
      "Requirement already satisfied: tenacity>=6.2.0 in /home/rakeshpc/.local/lib/python3.8/site-packages (from plotly) (8.2.3)\n",
      "Requirement already satisfied: packaging in /home/rakeshpc/.local/lib/python3.8/site-packages (from plotly) (23.1)\n",
      "\u001b[33mDEPRECATION: distro-info 0.23ubuntu1 has a non-standard version number. pip 24.0 will enforce this behaviour change. A possible replacement is to upgrade to a newer version of distro-info or contact the author to suggest that they release a version with a conforming version number. Discussion can be found at https://github.com/pypa/pip/issues/12063\u001b[0m\u001b[33m\n",
      "\u001b[0m\u001b[33mDEPRECATION: python-debian 0.1.36ubuntu1 has a non-standard version number. pip 24.0 will enforce this behaviour change. A possible replacement is to upgrade to a newer version of python-debian or contact the author to suggest that they release a version with a conforming version number. Discussion can be found at https://github.com/pypa/pip/issues/12063\u001b[0m\u001b[33m\n",
      "\u001b[0m\n",
      "\u001b[1m[\u001b[0m\u001b[34;49mnotice\u001b[0m\u001b[1;39;49m]\u001b[0m\u001b[39;49m A new release of pip is available: \u001b[0m\u001b[31;49m23.3.1\u001b[0m\u001b[39;49m -> \u001b[0m\u001b[32;49m23.3.2\u001b[0m\n",
      "\u001b[1m[\u001b[0m\u001b[34;49mnotice\u001b[0m\u001b[1;39;49m]\u001b[0m\u001b[39;49m To update, run: \u001b[0m\u001b[32;49mpython3 -m pip install --upgrade pip\u001b[0m\n"
     ]
    },
    {
     "name": "stderr",
     "output_type": "stream",
     "text": [
      "/home/rakeshpc/.local/lib/python3.8/site-packages/spacy/util.py:833: UserWarning:\n",
      "\n",
      "[W095] Model 'en_core_web_sm' (3.0.0) was trained with spaCy v3.0 and may not be 100% compatible with the current version (3.2.6). If you see errors or degraded performance, download a newer compatible model or retrain your custom model with the current spaCy version. For more details and available updates, run: python -m spacy validate\n",
      "\n",
      "[nltk_data] Downloading package punkt to /home/rakeshpc/nltk_data...\n",
      "[nltk_data]   Package punkt is already up-to-date!\n",
      "[nltk_data] Downloading package wordnet to /home/rakeshpc/nltk_data...\n",
      "[nltk_data]   Package wordnet is already up-to-date!\n"
     ]
    },
    {
     "data": {
      "text/plain": [
       "True"
      ]
     },
     "execution_count": 400,
     "metadata": {},
     "output_type": "execute_result"
    }
   ],
   "source": [
    "!pip install plotly\n",
    "import json \n",
    "import numpy as np\n",
    "import pandas as pd\n",
    "import re, nltk, spacy, string\n",
    "import en_core_web_sm\n",
    "nlp = en_core_web_sm.load()\n",
    "import seaborn as sns\n",
    "import matplotlib.pyplot as plt\n",
    "%matplotlib inline\n",
    "\n",
    "from plotly.offline import plot\n",
    "import plotly.graph_objects as go\n",
    "import plotly.express as px\n",
    "from nltk.tokenize import word_tokenize\n",
    "\n",
    "from sklearn.feature_extraction.text import CountVectorizer, TfidfVectorizer,TfidfTransformer\n",
    "from pprint import pprint\n",
    "from nltk.stem import WordNetLemmatizer\n",
    "nltk.download('punkt')\n",
    "nltk.download('wordnet')"
   ]
  },
  {
   "cell_type": "markdown",
   "metadata": {
    "id": "KtRLCsNVJrFt"
   },
   "source": [
    "## Loading the data\n",
    "\n",
    "The data is in JSON format and we need to convert it to a dataframe."
   ]
  },
  {
   "cell_type": "code",
   "execution_count": 401,
   "metadata": {
    "id": "puVzIf_iJrFt"
   },
   "outputs": [],
   "source": [
    "# Opening JSON file \n",
    "f = open(\"complaints-2021-05-14_08_16.json\")\n",
    "  \n",
    "# returns JSON object as  \n",
    "# a dictionary \n",
    "data = json.load(f)\n",
    "df=pd.json_normalize(data)"
   ]
  },
  {
   "cell_type": "code",
   "execution_count": 402,
   "metadata": {},
   "outputs": [
    {
     "data": {
      "text/html": [
       "<div>\n",
       "<style scoped>\n",
       "    .dataframe tbody tr th:only-of-type {\n",
       "        vertical-align: middle;\n",
       "    }\n",
       "\n",
       "    .dataframe tbody tr th {\n",
       "        vertical-align: top;\n",
       "    }\n",
       "\n",
       "    .dataframe thead th {\n",
       "        text-align: right;\n",
       "    }\n",
       "</style>\n",
       "<table border=\"1\" class=\"dataframe\">\n",
       "  <thead>\n",
       "    <tr style=\"text-align: right;\">\n",
       "      <th></th>\n",
       "      <th>_index</th>\n",
       "      <th>_type</th>\n",
       "      <th>_id</th>\n",
       "      <th>_score</th>\n",
       "      <th>_source.tags</th>\n",
       "      <th>_source.zip_code</th>\n",
       "      <th>_source.complaint_id</th>\n",
       "      <th>_source.issue</th>\n",
       "      <th>_source.date_received</th>\n",
       "      <th>_source.state</th>\n",
       "      <th>...</th>\n",
       "      <th>_source.company_response</th>\n",
       "      <th>_source.company</th>\n",
       "      <th>_source.submitted_via</th>\n",
       "      <th>_source.date_sent_to_company</th>\n",
       "      <th>_source.company_public_response</th>\n",
       "      <th>_source.sub_product</th>\n",
       "      <th>_source.timely</th>\n",
       "      <th>_source.complaint_what_happened</th>\n",
       "      <th>_source.sub_issue</th>\n",
       "      <th>_source.consumer_consent_provided</th>\n",
       "    </tr>\n",
       "  </thead>\n",
       "  <tbody>\n",
       "    <tr>\n",
       "      <th>0</th>\n",
       "      <td>complaint-public-v2</td>\n",
       "      <td>complaint</td>\n",
       "      <td>3211475</td>\n",
       "      <td>0.0</td>\n",
       "      <td>None</td>\n",
       "      <td>90301</td>\n",
       "      <td>3211475</td>\n",
       "      <td>Attempts to collect debt not owed</td>\n",
       "      <td>2019-04-13T12:00:00-05:00</td>\n",
       "      <td>CA</td>\n",
       "      <td>...</td>\n",
       "      <td>Closed with explanation</td>\n",
       "      <td>JPMORGAN CHASE &amp; CO.</td>\n",
       "      <td>Web</td>\n",
       "      <td>2019-04-13T12:00:00-05:00</td>\n",
       "      <td>None</td>\n",
       "      <td>Credit card debt</td>\n",
       "      <td>Yes</td>\n",
       "      <td></td>\n",
       "      <td>Debt is not yours</td>\n",
       "      <td>Consent not provided</td>\n",
       "    </tr>\n",
       "    <tr>\n",
       "      <th>1</th>\n",
       "      <td>complaint-public-v2</td>\n",
       "      <td>complaint</td>\n",
       "      <td>3229299</td>\n",
       "      <td>0.0</td>\n",
       "      <td>Servicemember</td>\n",
       "      <td>319XX</td>\n",
       "      <td>3229299</td>\n",
       "      <td>Written notification about debt</td>\n",
       "      <td>2019-05-01T12:00:00-05:00</td>\n",
       "      <td>GA</td>\n",
       "      <td>...</td>\n",
       "      <td>Closed with explanation</td>\n",
       "      <td>JPMORGAN CHASE &amp; CO.</td>\n",
       "      <td>Web</td>\n",
       "      <td>2019-05-01T12:00:00-05:00</td>\n",
       "      <td>None</td>\n",
       "      <td>Credit card debt</td>\n",
       "      <td>Yes</td>\n",
       "      <td>Good morning my name is XXXX XXXX and I apprec...</td>\n",
       "      <td>Didn't receive enough information to verify debt</td>\n",
       "      <td>Consent provided</td>\n",
       "    </tr>\n",
       "    <tr>\n",
       "      <th>2</th>\n",
       "      <td>complaint-public-v2</td>\n",
       "      <td>complaint</td>\n",
       "      <td>3199379</td>\n",
       "      <td>0.0</td>\n",
       "      <td>None</td>\n",
       "      <td>77069</td>\n",
       "      <td>3199379</td>\n",
       "      <td>Other features, terms, or problems</td>\n",
       "      <td>2019-04-02T12:00:00-05:00</td>\n",
       "      <td>TX</td>\n",
       "      <td>...</td>\n",
       "      <td>Closed with explanation</td>\n",
       "      <td>JPMORGAN CHASE &amp; CO.</td>\n",
       "      <td>Web</td>\n",
       "      <td>2019-04-02T12:00:00-05:00</td>\n",
       "      <td>None</td>\n",
       "      <td>General-purpose credit card or charge card</td>\n",
       "      <td>Yes</td>\n",
       "      <td>I upgraded my XXXX XXXX card in XX/XX/2018 and...</td>\n",
       "      <td>Problem with rewards from credit card</td>\n",
       "      <td>Consent provided</td>\n",
       "    </tr>\n",
       "    <tr>\n",
       "      <th>3</th>\n",
       "      <td>complaint-public-v2</td>\n",
       "      <td>complaint</td>\n",
       "      <td>2673060</td>\n",
       "      <td>0.0</td>\n",
       "      <td>None</td>\n",
       "      <td>48066</td>\n",
       "      <td>2673060</td>\n",
       "      <td>Trouble during payment process</td>\n",
       "      <td>2017-09-13T12:00:00-05:00</td>\n",
       "      <td>MI</td>\n",
       "      <td>...</td>\n",
       "      <td>Closed with explanation</td>\n",
       "      <td>JPMORGAN CHASE &amp; CO.</td>\n",
       "      <td>Web</td>\n",
       "      <td>2017-09-14T12:00:00-05:00</td>\n",
       "      <td>None</td>\n",
       "      <td>Conventional home mortgage</td>\n",
       "      <td>Yes</td>\n",
       "      <td></td>\n",
       "      <td>None</td>\n",
       "      <td>Consent not provided</td>\n",
       "    </tr>\n",
       "    <tr>\n",
       "      <th>4</th>\n",
       "      <td>complaint-public-v2</td>\n",
       "      <td>complaint</td>\n",
       "      <td>3203545</td>\n",
       "      <td>0.0</td>\n",
       "      <td>None</td>\n",
       "      <td>10473</td>\n",
       "      <td>3203545</td>\n",
       "      <td>Fees or interest</td>\n",
       "      <td>2019-04-05T12:00:00-05:00</td>\n",
       "      <td>NY</td>\n",
       "      <td>...</td>\n",
       "      <td>Closed with explanation</td>\n",
       "      <td>JPMORGAN CHASE &amp; CO.</td>\n",
       "      <td>Referral</td>\n",
       "      <td>2019-04-05T12:00:00-05:00</td>\n",
       "      <td>None</td>\n",
       "      <td>General-purpose credit card or charge card</td>\n",
       "      <td>Yes</td>\n",
       "      <td></td>\n",
       "      <td>Charged too much interest</td>\n",
       "      <td>N/A</td>\n",
       "    </tr>\n",
       "  </tbody>\n",
       "</table>\n",
       "<p>5 rows × 22 columns</p>\n",
       "</div>"
      ],
      "text/plain": [
       "                _index      _type      _id  _score   _source.tags  \\\n",
       "0  complaint-public-v2  complaint  3211475     0.0           None   \n",
       "1  complaint-public-v2  complaint  3229299     0.0  Servicemember   \n",
       "2  complaint-public-v2  complaint  3199379     0.0           None   \n",
       "3  complaint-public-v2  complaint  2673060     0.0           None   \n",
       "4  complaint-public-v2  complaint  3203545     0.0           None   \n",
       "\n",
       "  _source.zip_code _source.complaint_id                       _source.issue  \\\n",
       "0            90301              3211475   Attempts to collect debt not owed   \n",
       "1            319XX              3229299     Written notification about debt   \n",
       "2            77069              3199379  Other features, terms, or problems   \n",
       "3            48066              2673060      Trouble during payment process   \n",
       "4            10473              3203545                    Fees or interest   \n",
       "\n",
       "       _source.date_received _source.state  ... _source.company_response  \\\n",
       "0  2019-04-13T12:00:00-05:00            CA  ...  Closed with explanation   \n",
       "1  2019-05-01T12:00:00-05:00            GA  ...  Closed with explanation   \n",
       "2  2019-04-02T12:00:00-05:00            TX  ...  Closed with explanation   \n",
       "3  2017-09-13T12:00:00-05:00            MI  ...  Closed with explanation   \n",
       "4  2019-04-05T12:00:00-05:00            NY  ...  Closed with explanation   \n",
       "\n",
       "        _source.company _source.submitted_via _source.date_sent_to_company  \\\n",
       "0  JPMORGAN CHASE & CO.                   Web    2019-04-13T12:00:00-05:00   \n",
       "1  JPMORGAN CHASE & CO.                   Web    2019-05-01T12:00:00-05:00   \n",
       "2  JPMORGAN CHASE & CO.                   Web    2019-04-02T12:00:00-05:00   \n",
       "3  JPMORGAN CHASE & CO.                   Web    2017-09-14T12:00:00-05:00   \n",
       "4  JPMORGAN CHASE & CO.              Referral    2019-04-05T12:00:00-05:00   \n",
       "\n",
       "  _source.company_public_response                         _source.sub_product  \\\n",
       "0                            None                            Credit card debt   \n",
       "1                            None                            Credit card debt   \n",
       "2                            None  General-purpose credit card or charge card   \n",
       "3                            None                  Conventional home mortgage   \n",
       "4                            None  General-purpose credit card or charge card   \n",
       "\n",
       "  _source.timely                    _source.complaint_what_happened  \\\n",
       "0            Yes                                                      \n",
       "1            Yes  Good morning my name is XXXX XXXX and I apprec...   \n",
       "2            Yes  I upgraded my XXXX XXXX card in XX/XX/2018 and...   \n",
       "3            Yes                                                      \n",
       "4            Yes                                                      \n",
       "\n",
       "                                  _source.sub_issue  \\\n",
       "0                                 Debt is not yours   \n",
       "1  Didn't receive enough information to verify debt   \n",
       "2             Problem with rewards from credit card   \n",
       "3                                              None   \n",
       "4                         Charged too much interest   \n",
       "\n",
       "  _source.consumer_consent_provided  \n",
       "0              Consent not provided  \n",
       "1                  Consent provided  \n",
       "2                  Consent provided  \n",
       "3              Consent not provided  \n",
       "4                               N/A  \n",
       "\n",
       "[5 rows x 22 columns]"
      ]
     },
     "execution_count": 402,
     "metadata": {},
     "output_type": "execute_result"
    }
   ],
   "source": [
    "df.head()"
   ]
  },
  {
   "cell_type": "markdown",
   "metadata": {
    "id": "_xYpH-sAJrFu"
   },
   "source": [
    "## Data preparation"
   ]
  },
  {
   "cell_type": "code",
   "execution_count": 403,
   "metadata": {
    "id": "Lf8ufHH5JrFu"
   },
   "outputs": [
    {
     "data": {
      "text/plain": [
       "(78313, 22)"
      ]
     },
     "execution_count": 403,
     "metadata": {},
     "output_type": "execute_result"
    }
   ],
   "source": [
    "# Inspect the dataframe to understand the given data.\n",
    "df.shape\n"
   ]
  },
  {
   "cell_type": "code",
   "execution_count": 404,
   "metadata": {},
   "outputs": [
    {
     "name": "stdout",
     "output_type": "stream",
     "text": [
      "<class 'pandas.core.frame.DataFrame'>\n",
      "RangeIndex: 78313 entries, 0 to 78312\n",
      "Data columns (total 22 columns):\n",
      " #   Column                             Non-Null Count  Dtype  \n",
      "---  ------                             --------------  -----  \n",
      " 0   _index                             78313 non-null  object \n",
      " 1   _type                              78313 non-null  object \n",
      " 2   _id                                78313 non-null  object \n",
      " 3   _score                             78313 non-null  float64\n",
      " 4   _source.tags                       10900 non-null  object \n",
      " 5   _source.zip_code                   71556 non-null  object \n",
      " 6   _source.complaint_id               78313 non-null  object \n",
      " 7   _source.issue                      78313 non-null  object \n",
      " 8   _source.date_received              78313 non-null  object \n",
      " 9   _source.state                      76322 non-null  object \n",
      " 10  _source.consumer_disputed          78313 non-null  object \n",
      " 11  _source.product                    78313 non-null  object \n",
      " 12  _source.company_response           78313 non-null  object \n",
      " 13  _source.company                    78313 non-null  object \n",
      " 14  _source.submitted_via              78313 non-null  object \n",
      " 15  _source.date_sent_to_company       78313 non-null  object \n",
      " 16  _source.company_public_response    4 non-null      object \n",
      " 17  _source.sub_product                67742 non-null  object \n",
      " 18  _source.timely                     78313 non-null  object \n",
      " 19  _source.complaint_what_happened    78313 non-null  object \n",
      " 20  _source.sub_issue                  32016 non-null  object \n",
      " 21  _source.consumer_consent_provided  77305 non-null  object \n",
      "dtypes: float64(1), object(21)\n",
      "memory usage: 13.1+ MB\n"
     ]
    }
   ],
   "source": [
    "df.info(verbose=True)"
   ]
  },
  {
   "cell_type": "code",
   "execution_count": 405,
   "metadata": {},
   "outputs": [
    {
     "data": {
      "text/html": [
       "<div>\n",
       "<style scoped>\n",
       "    .dataframe tbody tr th:only-of-type {\n",
       "        vertical-align: middle;\n",
       "    }\n",
       "\n",
       "    .dataframe tbody tr th {\n",
       "        vertical-align: top;\n",
       "    }\n",
       "\n",
       "    .dataframe thead th {\n",
       "        text-align: right;\n",
       "    }\n",
       "</style>\n",
       "<table border=\"1\" class=\"dataframe\">\n",
       "  <thead>\n",
       "    <tr style=\"text-align: right;\">\n",
       "      <th></th>\n",
       "      <th>_score</th>\n",
       "    </tr>\n",
       "  </thead>\n",
       "  <tbody>\n",
       "    <tr>\n",
       "      <th>count</th>\n",
       "      <td>78313.0</td>\n",
       "    </tr>\n",
       "    <tr>\n",
       "      <th>mean</th>\n",
       "      <td>0.0</td>\n",
       "    </tr>\n",
       "    <tr>\n",
       "      <th>std</th>\n",
       "      <td>0.0</td>\n",
       "    </tr>\n",
       "    <tr>\n",
       "      <th>min</th>\n",
       "      <td>0.0</td>\n",
       "    </tr>\n",
       "    <tr>\n",
       "      <th>25%</th>\n",
       "      <td>0.0</td>\n",
       "    </tr>\n",
       "    <tr>\n",
       "      <th>50%</th>\n",
       "      <td>0.0</td>\n",
       "    </tr>\n",
       "    <tr>\n",
       "      <th>75%</th>\n",
       "      <td>0.0</td>\n",
       "    </tr>\n",
       "    <tr>\n",
       "      <th>max</th>\n",
       "      <td>0.0</td>\n",
       "    </tr>\n",
       "  </tbody>\n",
       "</table>\n",
       "</div>"
      ],
      "text/plain": [
       "        _score\n",
       "count  78313.0\n",
       "mean       0.0\n",
       "std        0.0\n",
       "min        0.0\n",
       "25%        0.0\n",
       "50%        0.0\n",
       "75%        0.0\n",
       "max        0.0"
      ]
     },
     "execution_count": 405,
     "metadata": {},
     "output_type": "execute_result"
    }
   ],
   "source": [
    "df.describe()"
   ]
  },
  {
   "cell_type": "code",
   "execution_count": 406,
   "metadata": {},
   "outputs": [
    {
     "data": {
      "text/plain": [
       "Company has responded to the consumer and the CFPB and chooses not to provide a public response    2\n",
       "Company believes complaint relates to a discontinued policy or procedure                           1\n",
       "Company chooses not to provide a public response                                                   1\n",
       "Name: _source.company_public_response, dtype: int64"
      ]
     },
     "execution_count": 406,
     "metadata": {},
     "output_type": "execute_result"
    }
   ],
   "source": [
    "df['_source.company_public_response'].value_counts()"
   ]
  },
  {
   "cell_type": "code",
   "execution_count": 407,
   "metadata": {},
   "outputs": [
    {
     "data": {
      "text/plain": [
       "Credit card company isn't resolving a dispute about a purchase on your statement    2904\n",
       "Deposits and withdrawals                                                            2759\n",
       "Company closed your account                                                         2020\n",
       "Problem using a debit or ATM card                                                   1613\n",
       "Card was charged for something you did not purchase with the card                   1056\n",
       "                                                                                    ... \n",
       "Problem with additional add-on products or services purchased with the loan            1\n",
       "Receiving unwanted marketing/advertising                                               1\n",
       "Report shared with employer w/o consent                                                1\n",
       "Problem cancelling or closing account                                                  1\n",
       "Account terms and changes                                                              1\n",
       "Name: _source.sub_issue, Length: 205, dtype: int64"
      ]
     },
     "execution_count": 407,
     "metadata": {},
     "output_type": "execute_result"
    }
   ],
   "source": [
    "df['_source.sub_issue'].value_counts()"
   ]
  },
  {
   "cell_type": "code",
   "execution_count": 408,
   "metadata": {},
   "outputs": [
    {
     "data": {
      "text/plain": [
       "Checking account                              17182\n",
       "General-purpose credit card or charge card    10504\n",
       "Other mortgage                                 8447\n",
       "Conventional fixed mortgage                    4892\n",
       "Credit reporting                               4172\n",
       "                                              ...  \n",
       "Gift or merchant card                             4\n",
       "Government benefit payment card                   4\n",
       "ID prepaid card                                   2\n",
       "Medical debt                                      2\n",
       "Electronic Benefit Transfer / EBT card            1\n",
       "Name: _source.sub_product, Length: 72, dtype: int64"
      ]
     },
     "execution_count": 408,
     "metadata": {},
     "output_type": "execute_result"
    }
   ],
   "source": [
    "df['_source.sub_product'].value_counts()"
   ]
  },
  {
   "cell_type": "code",
   "execution_count": 409,
   "metadata": {},
   "outputs": [
    {
     "data": {
      "text/plain": [
       "N/A                     42847\n",
       "Consent provided        21077\n",
       "Consent not provided    12285\n",
       "Other                     991\n",
       "Consent withdrawn         105\n",
       "Name: _source.consumer_consent_provided, dtype: int64"
      ]
     },
     "execution_count": 409,
     "metadata": {},
     "output_type": "execute_result"
    }
   ],
   "source": [
    "df['_source.consumer_consent_provided'].value_counts()"
   ]
  },
  {
   "cell_type": "code",
   "execution_count": 410,
   "metadata": {},
   "outputs": [
    {
     "data": {
      "image/png": "[encoded data removed]",
      "text/plain": [
       "<Figure size 432x288 with 1 Axes>"
      ]
     },
     "metadata": {
      "needs_background": "light"
     },
     "output_type": "display_data"
    }
   ],
   "source": [
    "df.isna().sum().sort_values(ascending=False).plot.bar()\n",
    "plt.show()"
   ]
  },
  {
   "cell_type": "markdown",
   "metadata": {},
   "source": [
    "## Above we see which all columns are having null about the column names and its data type and also the opportunity where we can correct the data"
   ]
  },
  {
   "cell_type": "code",
   "execution_count": 411,
   "metadata": {
    "id": "Dwcty-wmJrFw"
   },
   "outputs": [
    {
     "data": {
      "text/plain": [
       "Index(['_index', '_type', '_id', '_score', '_source.tags', '_source.zip_code',\n",
       "       '_source.complaint_id', '_source.issue', '_source.date_received',\n",
       "       '_source.state', '_source.consumer_disputed', '_source.product',\n",
       "       '_source.company_response', '_source.company', '_source.submitted_via',\n",
       "       '_source.date_sent_to_company', '_source.company_public_response',\n",
       "       '_source.sub_product', '_source.timely',\n",
       "       '_source.complaint_what_happened', '_source.sub_issue',\n",
       "       '_source.consumer_consent_provided'],\n",
       "      dtype='object')"
      ]
     },
     "execution_count": 411,
     "metadata": {},
     "output_type": "execute_result"
    }
   ],
   "source": [
    "#print the column names\n",
    "df.columns"
   ]
  },
  {
   "cell_type": "markdown",
   "metadata": {},
   "source": [
    "# Basically we are interested in what is the complain and what is the complaint type"
   ]
  },
  {
   "cell_type": "code",
   "execution_count": 412,
   "metadata": {
    "id": "FYCtKXD1JrFw"
   },
   "outputs": [],
   "source": [
    "#Basically we are interested in what is the complain and what is the complaint type\n",
    "#Assign new column names\n",
    "df.rename(columns={'_source.complaint_what_happened':'complaints_what_happened', '_source.product':'product','_source.sub_product':'sub_product'}, inplace=True)"
   ]
  },
  {
   "cell_type": "code",
   "execution_count": 413,
   "metadata": {
    "id": "grQUPFL5JrFx"
   },
   "outputs": [
    {
     "data": {
      "text/plain": [
       "57241"
      ]
     },
     "execution_count": 413,
     "metadata": {},
     "output_type": "execute_result"
    }
   ],
   "source": [
    "#Assign nan in place of blanks in the complaints column\n",
    "# lets replace empty complain with nan value\n",
    "df[df['complaints_what_happened']==''] = np.nan\n",
    "df.complaints_what_happened.isnull().sum()"
   ]
  },
  {
   "cell_type": "code",
   "execution_count": 414,
   "metadata": {
    "id": "Jfxd8VSmJrFy"
   },
   "outputs": [
    {
     "data": {
      "text/plain": [
       "0"
      ]
     },
     "execution_count": 414,
     "metadata": {},
     "output_type": "execute_result"
    }
   ],
   "source": [
    "#Remove all rows where complaints column is nan\n",
    "df = df[~df['complaints_what_happened'].isnull()]\n",
    "df.complaints_what_happened.isnull().sum()"
   ]
  },
  {
   "cell_type": "code",
   "execution_count": 415,
   "metadata": {},
   "outputs": [],
   "source": [
    "#Combining product and sub product for creating a new column \n",
    "df['sub_product_category'] = df['product'] + '+' + df['sub_product']\n",
    "df = df.drop(['product','sub_product'],axis= 1)\n",
    "df.head()\n",
    "df = df[['complaints_what_happened','sub_product_category']]"
   ]
  },
  {
   "cell_type": "code",
   "execution_count": 416,
   "metadata": {},
   "outputs": [
    {
     "data": {
      "text/plain": [
       "(21072, 2)"
      ]
     },
     "execution_count": 416,
     "metadata": {},
     "output_type": "execute_result"
    }
   ],
   "source": [
    "df.shape"
   ]
  },
  {
   "cell_type": "code",
   "execution_count": 417,
   "metadata": {},
   "outputs": [
    {
     "name": "stdout",
     "output_type": "stream",
     "text": [
      "<class 'pandas.core.frame.DataFrame'>\n",
      "Int64Index: 21072 entries, 1 to 78312\n",
      "Data columns (total 2 columns):\n",
      " #   Column                    Non-Null Count  Dtype \n",
      "---  ------                    --------------  ----- \n",
      " 0   complaints_what_happened  21072 non-null  object\n",
      " 1   sub_product_category      18963 non-null  object\n",
      "dtypes: object(2)\n",
      "memory usage: 493.9+ KB\n"
     ]
    }
   ],
   "source": [
    "df.info()"
   ]
  },
  {
   "cell_type": "code",
   "execution_count": 418,
   "metadata": {},
   "outputs": [
    {
     "data": {
      "text/html": [
       "<div>\n",
       "<style scoped>\n",
       "    .dataframe tbody tr th:only-of-type {\n",
       "        vertical-align: middle;\n",
       "    }\n",
       "\n",
       "    .dataframe tbody tr th {\n",
       "        vertical-align: top;\n",
       "    }\n",
       "\n",
       "    .dataframe thead th {\n",
       "        text-align: right;\n",
       "    }\n",
       "</style>\n",
       "<table border=\"1\" class=\"dataframe\">\n",
       "  <thead>\n",
       "    <tr style=\"text-align: right;\">\n",
       "      <th></th>\n",
       "      <th>complaints_what_happened</th>\n",
       "      <th>sub_product_category</th>\n",
       "    </tr>\n",
       "  </thead>\n",
       "  <tbody>\n",
       "    <tr>\n",
       "      <th>1</th>\n",
       "      <td>Good morning my name is XXXX XXXX and I apprec...</td>\n",
       "      <td>Debt collection+Credit card debt</td>\n",
       "    </tr>\n",
       "    <tr>\n",
       "      <th>2</th>\n",
       "      <td>I upgraded my XXXX XXXX card in XX/XX/2018 and...</td>\n",
       "      <td>Credit card or prepaid card+General-purpose cr...</td>\n",
       "    </tr>\n",
       "    <tr>\n",
       "      <th>10</th>\n",
       "      <td>Chase Card was reported on XX/XX/2019. However...</td>\n",
       "      <td>Credit reporting, credit repair services, or o...</td>\n",
       "    </tr>\n",
       "    <tr>\n",
       "      <th>11</th>\n",
       "      <td>On XX/XX/2018, while trying to book a XXXX  XX...</td>\n",
       "      <td>Credit reporting, credit repair services, or o...</td>\n",
       "    </tr>\n",
       "    <tr>\n",
       "      <th>14</th>\n",
       "      <td>my grand son give me check for {$1600.00} i de...</td>\n",
       "      <td>Checking or savings account+Checking account</td>\n",
       "    </tr>\n",
       "  </tbody>\n",
       "</table>\n",
       "</div>"
      ],
      "text/plain": [
       "                             complaints_what_happened  \\\n",
       "1   Good morning my name is XXXX XXXX and I apprec...   \n",
       "2   I upgraded my XXXX XXXX card in XX/XX/2018 and...   \n",
       "10  Chase Card was reported on XX/XX/2019. However...   \n",
       "11  On XX/XX/2018, while trying to book a XXXX  XX...   \n",
       "14  my grand son give me check for {$1600.00} i de...   \n",
       "\n",
       "                                 sub_product_category  \n",
       "1                    Debt collection+Credit card debt  \n",
       "2   Credit card or prepaid card+General-purpose cr...  \n",
       "10  Credit reporting, credit repair services, or o...  \n",
       "11  Credit reporting, credit repair services, or o...  \n",
       "14       Checking or savings account+Checking account  "
      ]
     },
     "execution_count": 418,
     "metadata": {},
     "output_type": "execute_result"
    }
   ],
   "source": [
    "df.head()"
   ]
  },
  {
   "cell_type": "markdown",
   "metadata": {
    "id": "L944HZpsJrFy"
   },
   "source": [
    "## Prepare the text for topic modeling\n",
    "\n",
    "Once you have removed all the blank complaints, you need to:\n",
    "\n",
    "* Make the text lowercase\n",
    "* Remove text in square brackets\n",
    "* Remove punctuation\n",
    "* Remove words containing numbers\n",
    "\n",
    "\n",
    "Once you have done these cleaning operations you need to perform the following:\n",
    "* Lemmatize the texts\n",
    "* Extract the POS tags of the lemmatized text and remove all the words which have tags other than NN[tag == \"NN\"].\n"
   ]
  },
  {
   "cell_type": "code",
   "execution_count": 419,
   "metadata": {
    "id": "qm7SjjSkJrFz"
   },
   "outputs": [],
   "source": [
    "\n",
    "def clean_text_data(text):\n",
    "    text = text.lower() # text to lowercase\n",
    "    text = re.sub(r'\\s\\{\\$\\S*', '',text) # Remove text within curly braces\n",
    "    text = re.sub(r'\\n', '', text) # Remove line breaks\n",
    "    text = re.sub(r'\\(\\w*\\)', '', text) #remove text within braces\n",
    "    text = re.sub(r'(\\W\\s)|(\\W$)|(\\W\\d*)', ' ',text) # Remove punctuation\n",
    "    text = re.sub(r'x+((/xx)*/\\d*\\s*)|x*', '',text) #Remove date\n",
    "    text = re.sub(r'\\d+\\s', '', text) #Remove other numerical values\n",
    "    text = re.sub(r' +', ' ',text) #Remove unnecessary white spaces\n",
    "    return text.strip()\n"
   ]
  },
  {
   "cell_type": "code",
   "execution_count": 420,
   "metadata": {},
   "outputs": [
    {
     "data": {
      "text/html": [
       "<div>\n",
       "<style scoped>\n",
       "    .dataframe tbody tr th:only-of-type {\n",
       "        vertical-align: middle;\n",
       "    }\n",
       "\n",
       "    .dataframe tbody tr th {\n",
       "        vertical-align: top;\n",
       "    }\n",
       "\n",
       "    .dataframe thead th {\n",
       "        text-align: right;\n",
       "    }\n",
       "</style>\n",
       "<table border=\"1\" class=\"dataframe\">\n",
       "  <thead>\n",
       "    <tr style=\"text-align: right;\">\n",
       "      <th></th>\n",
       "      <th>complaints_what_happened</th>\n",
       "      <th>sub_product_category</th>\n",
       "      <th>complaints</th>\n",
       "    </tr>\n",
       "  </thead>\n",
       "  <tbody>\n",
       "    <tr>\n",
       "      <th>1</th>\n",
       "      <td>Good morning my name is XXXX XXXX and I apprec...</td>\n",
       "      <td>Debt collection+Credit card debt</td>\n",
       "      <td>good morning my name is and i appreciate it if...</td>\n",
       "    </tr>\n",
       "    <tr>\n",
       "      <th>2</th>\n",
       "      <td>I upgraded my XXXX XXXX card in XX/XX/2018 and...</td>\n",
       "      <td>Credit card or prepaid card+General-purpose cr...</td>\n",
       "      <td>i upgraded my card in and was told by the agen...</td>\n",
       "    </tr>\n",
       "    <tr>\n",
       "      <th>10</th>\n",
       "      <td>Chase Card was reported on XX/XX/2019. However...</td>\n",
       "      <td>Credit reporting, credit repair services, or o...</td>\n",
       "      <td>chase card was reported on however fraudulent ...</td>\n",
       "    </tr>\n",
       "    <tr>\n",
       "      <th>11</th>\n",
       "      <td>On XX/XX/2018, while trying to book a XXXX  XX...</td>\n",
       "      <td>Credit reporting, credit repair services, or o...</td>\n",
       "      <td>on while trying to book a ticket i came across...</td>\n",
       "    </tr>\n",
       "    <tr>\n",
       "      <th>14</th>\n",
       "      <td>my grand son give me check for {$1600.00} i de...</td>\n",
       "      <td>Checking or savings account+Checking account</td>\n",
       "      <td>my grand son give me check for i deposit it in...</td>\n",
       "    </tr>\n",
       "  </tbody>\n",
       "</table>\n",
       "</div>"
      ],
      "text/plain": [
       "                             complaints_what_happened  \\\n",
       "1   Good morning my name is XXXX XXXX and I apprec...   \n",
       "2   I upgraded my XXXX XXXX card in XX/XX/2018 and...   \n",
       "10  Chase Card was reported on XX/XX/2019. However...   \n",
       "11  On XX/XX/2018, while trying to book a XXXX  XX...   \n",
       "14  my grand son give me check for {$1600.00} i de...   \n",
       "\n",
       "                                 sub_product_category  \\\n",
       "1                    Debt collection+Credit card debt   \n",
       "2   Credit card or prepaid card+General-purpose cr...   \n",
       "10  Credit reporting, credit repair services, or o...   \n",
       "11  Credit reporting, credit repair services, or o...   \n",
       "14       Checking or savings account+Checking account   \n",
       "\n",
       "                                           complaints  \n",
       "1   good morning my name is and i appreciate it if...  \n",
       "2   i upgraded my card in and was told by the agen...  \n",
       "10  chase card was reported on however fraudulent ...  \n",
       "11  on while trying to book a ticket i came across...  \n",
       "14  my grand son give me check for i deposit it in...  "
      ]
     },
     "execution_count": 420,
     "metadata": {},
     "output_type": "execute_result"
    }
   ],
   "source": [
    "# performing the cleaning\n",
    "df['complaints'] = df['complaints_what_happened'].apply(clean_text_data)\n",
    "df.head()"
   ]
  },
  {
   "cell_type": "code",
   "execution_count": 421,
   "metadata": {},
   "outputs": [
    {
     "data": {
      "text/plain": [
       "(21072, 3)"
      ]
     },
     "execution_count": 421,
     "metadata": {},
     "output_type": "execute_result"
    }
   ],
   "source": [
    "df.shape"
   ]
  },
  {
   "cell_type": "code",
   "execution_count": 422,
   "metadata": {
    "id": "zgOu8t8HJrFz"
   },
   "outputs": [],
   "source": [
    "#Write your function to Lemmatize the texts\n",
    "def lemmatization_text_data(text):\n",
    "    tokens = word_tokenize(text)\n",
    "    wordnet_lemmetizer = WordNetLemmatizer()\n",
    "    lemmatized = [wordnet_lemmetizer.lemmatize(token) for token in tokens]\n",
    "    lemmatized_str = \" \".join(lemmatized)\n",
    "    return lemmatized_str\n"
   ]
  },
  {
   "cell_type": "code",
   "execution_count": 423,
   "metadata": {
    "id": "uXnN7aa_JrF0"
   },
   "outputs": [
    {
     "data": {
      "text/html": [
       "<div>\n",
       "<style scoped>\n",
       "    .dataframe tbody tr th:only-of-type {\n",
       "        vertical-align: middle;\n",
       "    }\n",
       "\n",
       "    .dataframe tbody tr th {\n",
       "        vertical-align: top;\n",
       "    }\n",
       "\n",
       "    .dataframe thead th {\n",
       "        text-align: right;\n",
       "    }\n",
       "</style>\n",
       "<table border=\"1\" class=\"dataframe\">\n",
       "  <thead>\n",
       "    <tr style=\"text-align: right;\">\n",
       "      <th></th>\n",
       "      <th>complaints_what_happened</th>\n",
       "      <th>sub_product_category</th>\n",
       "      <th>complaints</th>\n",
       "      <th>lemma</th>\n",
       "    </tr>\n",
       "  </thead>\n",
       "  <tbody>\n",
       "    <tr>\n",
       "      <th>1</th>\n",
       "      <td>Good morning my name is XXXX XXXX and I apprec...</td>\n",
       "      <td>Debt collection+Credit card debt</td>\n",
       "      <td>good morning my name is and i appreciate it if...</td>\n",
       "      <td>good morning my name is and i appreciate it if...</td>\n",
       "    </tr>\n",
       "    <tr>\n",
       "      <th>2</th>\n",
       "      <td>I upgraded my XXXX XXXX card in XX/XX/2018 and...</td>\n",
       "      <td>Credit card or prepaid card+General-purpose cr...</td>\n",
       "      <td>i upgraded my card in and was told by the agen...</td>\n",
       "      <td>i upgraded my card in and wa told by the agent...</td>\n",
       "    </tr>\n",
       "    <tr>\n",
       "      <th>10</th>\n",
       "      <td>Chase Card was reported on XX/XX/2019. However...</td>\n",
       "      <td>Credit reporting, credit repair services, or o...</td>\n",
       "      <td>chase card was reported on however fraudulent ...</td>\n",
       "      <td>chase card wa reported on however fraudulent a...</td>\n",
       "    </tr>\n",
       "    <tr>\n",
       "      <th>11</th>\n",
       "      <td>On XX/XX/2018, while trying to book a XXXX  XX...</td>\n",
       "      <td>Credit reporting, credit repair services, or o...</td>\n",
       "      <td>on while trying to book a ticket i came across...</td>\n",
       "      <td>on while trying to book a ticket i came across...</td>\n",
       "    </tr>\n",
       "    <tr>\n",
       "      <th>14</th>\n",
       "      <td>my grand son give me check for {$1600.00} i de...</td>\n",
       "      <td>Checking or savings account+Checking account</td>\n",
       "      <td>my grand son give me check for i deposit it in...</td>\n",
       "      <td>my grand son give me check for i deposit it in...</td>\n",
       "    </tr>\n",
       "  </tbody>\n",
       "</table>\n",
       "</div>"
      ],
      "text/plain": [
       "                             complaints_what_happened  \\\n",
       "1   Good morning my name is XXXX XXXX and I apprec...   \n",
       "2   I upgraded my XXXX XXXX card in XX/XX/2018 and...   \n",
       "10  Chase Card was reported on XX/XX/2019. However...   \n",
       "11  On XX/XX/2018, while trying to book a XXXX  XX...   \n",
       "14  my grand son give me check for {$1600.00} i de...   \n",
       "\n",
       "                                 sub_product_category  \\\n",
       "1                    Debt collection+Credit card debt   \n",
       "2   Credit card or prepaid card+General-purpose cr...   \n",
       "10  Credit reporting, credit repair services, or o...   \n",
       "11  Credit reporting, credit repair services, or o...   \n",
       "14       Checking or savings account+Checking account   \n",
       "\n",
       "                                           complaints  \\\n",
       "1   good morning my name is and i appreciate it if...   \n",
       "2   i upgraded my card in and was told by the agen...   \n",
       "10  chase card was reported on however fraudulent ...   \n",
       "11  on while trying to book a ticket i came across...   \n",
       "14  my grand son give me check for i deposit it in...   \n",
       "\n",
       "                                                lemma  \n",
       "1   good morning my name is and i appreciate it if...  \n",
       "2   i upgraded my card in and wa told by the agent...  \n",
       "10  chase card wa reported on however fraudulent a...  \n",
       "11  on while trying to book a ticket i came across...  \n",
       "14  my grand son give me check for i deposit it in...  "
      ]
     },
     "execution_count": 423,
     "metadata": {},
     "output_type": "execute_result"
    }
   ],
   "source": [
    "#Create a dataframe('df_clean') that will have only the complaints and the lemmatized complaints \n",
    "df['lemma'] =  df.complaints.apply(lambda x: lemmatization_text_data(x))\n",
    "df.head()"
   ]
  },
  {
   "cell_type": "code",
   "execution_count": 424,
   "metadata": {},
   "outputs": [],
   "source": [
    "df_clean = df[['complaints','lemma']]"
   ]
  },
  {
   "cell_type": "code",
   "execution_count": 425,
   "metadata": {
    "id": "nOiDVvEIJrF0"
   },
   "outputs": [
    {
     "data": {
      "text/html": [
       "<div>\n",
       "<style scoped>\n",
       "    .dataframe tbody tr th:only-of-type {\n",
       "        vertical-align: middle;\n",
       "    }\n",
       "\n",
       "    .dataframe tbody tr th {\n",
       "        vertical-align: top;\n",
       "    }\n",
       "\n",
       "    .dataframe thead th {\n",
       "        text-align: right;\n",
       "    }\n",
       "</style>\n",
       "<table border=\"1\" class=\"dataframe\">\n",
       "  <thead>\n",
       "    <tr style=\"text-align: right;\">\n",
       "      <th></th>\n",
       "      <th>complaints</th>\n",
       "      <th>lemma</th>\n",
       "    </tr>\n",
       "  </thead>\n",
       "  <tbody>\n",
       "    <tr>\n",
       "      <th>1</th>\n",
       "      <td>good morning my name is and i appreciate it if...</td>\n",
       "      <td>good morning my name is and i appreciate it if...</td>\n",
       "    </tr>\n",
       "    <tr>\n",
       "      <th>2</th>\n",
       "      <td>i upgraded my card in and was told by the agen...</td>\n",
       "      <td>i upgraded my card in and wa told by the agent...</td>\n",
       "    </tr>\n",
       "    <tr>\n",
       "      <th>10</th>\n",
       "      <td>chase card was reported on however fraudulent ...</td>\n",
       "      <td>chase card wa reported on however fraudulent a...</td>\n",
       "    </tr>\n",
       "    <tr>\n",
       "      <th>11</th>\n",
       "      <td>on while trying to book a ticket i came across...</td>\n",
       "      <td>on while trying to book a ticket i came across...</td>\n",
       "    </tr>\n",
       "    <tr>\n",
       "      <th>14</th>\n",
       "      <td>my grand son give me check for i deposit it in...</td>\n",
       "      <td>my grand son give me check for i deposit it in...</td>\n",
       "    </tr>\n",
       "  </tbody>\n",
       "</table>\n",
       "</div>"
      ],
      "text/plain": [
       "                                           complaints  \\\n",
       "1   good morning my name is and i appreciate it if...   \n",
       "2   i upgraded my card in and was told by the agen...   \n",
       "10  chase card was reported on however fraudulent ...   \n",
       "11  on while trying to book a ticket i came across...   \n",
       "14  my grand son give me check for i deposit it in...   \n",
       "\n",
       "                                                lemma  \n",
       "1   good morning my name is and i appreciate it if...  \n",
       "2   i upgraded my card in and wa told by the agent...  \n",
       "10  chase card wa reported on however fraudulent a...  \n",
       "11  on while trying to book a ticket i came across...  \n",
       "14  my grand son give me check for i deposit it in...  "
      ]
     },
     "execution_count": 425,
     "metadata": {},
     "output_type": "execute_result"
    }
   ],
   "source": [
    "df_clean.head()"
   ]
  },
  {
   "cell_type": "code",
   "execution_count": 426,
   "metadata": {},
   "outputs": [
    {
     "data": {
      "text/plain": [
       "(21072, 2)"
      ]
     },
     "execution_count": 426,
     "metadata": {},
     "output_type": "execute_result"
    }
   ],
   "source": [
    "df_clean.shape"
   ]
  },
  {
   "cell_type": "code",
   "execution_count": 427,
   "metadata": {
    "id": "Kk7fc4DuJrF1"
   },
   "outputs": [
    {
     "name": "stderr",
     "output_type": "stream",
     "text": [
      "/tmp/ipykernel_5209/2471038126.py:13: SettingWithCopyWarning:\n",
      "\n",
      "\n",
      "A value is trying to be set on a copy of a slice from a DataFrame.\n",
      "Try using .loc[row_indexer,col_indexer] = value instead\n",
      "\n",
      "See the caveats in the documentation: https://pandas.pydata.org/pandas-docs/stable/user_guide/indexing.html#returning-a-view-versus-a-copy\n",
      "\n"
     ]
    }
   ],
   "source": [
    "#Write your function to extract the POS tags \n",
    "\n",
    "def get_pos_tags(text):\n",
    "    nn_words = []\n",
    "    doc = nlp(text)\n",
    "    for tok in doc:\n",
    "        if(tok.tag_ == 'NN'):\n",
    "            nn_words.append(tok.lemma_)\n",
    "    nn_words_str = \" \".join(nn_words)\n",
    "    return nn_words_str\n",
    "\n",
    "#this column should contain lemmatized text with all the words removed which have tags other than NN[tag == \"NN\"].\n",
    "df_clean[\"complaint_POS_removed\"] =  df_clean.apply(lambda x: get_pos_tags(x['lemma']), axis=1)\n"
   ]
  },
  {
   "cell_type": "code",
   "execution_count": 428,
   "metadata": {
    "id": "AjxfchvFJrF2"
   },
   "outputs": [
    {
     "data": {
      "text/html": [
       "<div>\n",
       "<style scoped>\n",
       "    .dataframe tbody tr th:only-of-type {\n",
       "        vertical-align: middle;\n",
       "    }\n",
       "\n",
       "    .dataframe tbody tr th {\n",
       "        vertical-align: top;\n",
       "    }\n",
       "\n",
       "    .dataframe thead th {\n",
       "        text-align: right;\n",
       "    }\n",
       "</style>\n",
       "<table border=\"1\" class=\"dataframe\">\n",
       "  <thead>\n",
       "    <tr style=\"text-align: right;\">\n",
       "      <th></th>\n",
       "      <th>complaints</th>\n",
       "      <th>lemma</th>\n",
       "      <th>complaint_POS_removed</th>\n",
       "    </tr>\n",
       "  </thead>\n",
       "  <tbody>\n",
       "    <tr>\n",
       "      <th>1</th>\n",
       "      <td>good morning my name is and i appreciate it if...</td>\n",
       "      <td>good morning my name is and i appreciate it if...</td>\n",
       "      <td>morning name stop bank cardmember service debt...</td>\n",
       "    </tr>\n",
       "    <tr>\n",
       "      <th>2</th>\n",
       "      <td>i upgraded my card in and was told by the agen...</td>\n",
       "      <td>i upgraded my card in and wa told by the agent...</td>\n",
       "      <td>card agent upgrade anniversary date agent info...</td>\n",
       "    </tr>\n",
       "    <tr>\n",
       "      <th>10</th>\n",
       "      <td>chase card was reported on however fraudulent ...</td>\n",
       "      <td>chase card wa reported on however fraudulent a...</td>\n",
       "      <td>chase card application identity consent servic...</td>\n",
       "    </tr>\n",
       "    <tr>\n",
       "      <th>11</th>\n",
       "      <td>on while trying to book a ticket i came across...</td>\n",
       "      <td>on while trying to book a ticket i came across...</td>\n",
       "      <td>ticket offer ticket reward card information of...</td>\n",
       "    </tr>\n",
       "    <tr>\n",
       "      <th>14</th>\n",
       "      <td>my grand son give me check for i deposit it in...</td>\n",
       "      <td>my grand son give me check for i deposit it in...</td>\n",
       "      <td>son check chase account fund chase bank accoun...</td>\n",
       "    </tr>\n",
       "    <tr>\n",
       "      <th>...</th>\n",
       "      <td>...</td>\n",
       "      <td>...</td>\n",
       "      <td>...</td>\n",
       "    </tr>\n",
       "    <tr>\n",
       "      <th>78303</th>\n",
       "      <td>after being a chase card customer for well ove...</td>\n",
       "      <td>after being a chase card customer for well ove...</td>\n",
       "      <td>chase card customer decade wa solicitation cre...</td>\n",
       "    </tr>\n",
       "    <tr>\n",
       "      <th>78309</th>\n",
       "      <td>on wednesday i called chas my visa credit card...</td>\n",
       "      <td>on wednesday i called chas my visa credit card...</td>\n",
       "      <td>wednesday visa credit card provider claim purc...</td>\n",
       "    </tr>\n",
       "    <tr>\n",
       "      <th>78310</th>\n",
       "      <td>i am not familiar with pay and did not underst...</td>\n",
       "      <td>i am not familiar with pay and did not underst...</td>\n",
       "      <td>pay risk consumer chase bank app chase year ba...</td>\n",
       "    </tr>\n",
       "    <tr>\n",
       "      <th>78311</th>\n",
       "      <td>i have had flawless credit for yrs i ve had ch...</td>\n",
       "      <td>i have had flawless credit for yr i ve had cha...</td>\n",
       "      <td>credit yr chase credit card chase freedom prob...</td>\n",
       "    </tr>\n",
       "    <tr>\n",
       "      <th>78312</th>\n",
       "      <td>roughly years ago i closed out my accounts wit...</td>\n",
       "      <td>roughly year ago i closed out my account with ...</td>\n",
       "      <td>year account jp morgan chase bank order line c...</td>\n",
       "    </tr>\n",
       "  </tbody>\n",
       "</table>\n",
       "<p>21072 rows × 3 columns</p>\n",
       "</div>"
      ],
      "text/plain": [
       "                                              complaints  \\\n",
       "1      good morning my name is and i appreciate it if...   \n",
       "2      i upgraded my card in and was told by the agen...   \n",
       "10     chase card was reported on however fraudulent ...   \n",
       "11     on while trying to book a ticket i came across...   \n",
       "14     my grand son give me check for i deposit it in...   \n",
       "...                                                  ...   \n",
       "78303  after being a chase card customer for well ove...   \n",
       "78309  on wednesday i called chas my visa credit card...   \n",
       "78310  i am not familiar with pay and did not underst...   \n",
       "78311  i have had flawless credit for yrs i ve had ch...   \n",
       "78312  roughly years ago i closed out my accounts wit...   \n",
       "\n",
       "                                                   lemma  \\\n",
       "1      good morning my name is and i appreciate it if...   \n",
       "2      i upgraded my card in and wa told by the agent...   \n",
       "10     chase card wa reported on however fraudulent a...   \n",
       "11     on while trying to book a ticket i came across...   \n",
       "14     my grand son give me check for i deposit it in...   \n",
       "...                                                  ...   \n",
       "78303  after being a chase card customer for well ove...   \n",
       "78309  on wednesday i called chas my visa credit card...   \n",
       "78310  i am not familiar with pay and did not underst...   \n",
       "78311  i have had flawless credit for yr i ve had cha...   \n",
       "78312  roughly year ago i closed out my account with ...   \n",
       "\n",
       "                                   complaint_POS_removed  \n",
       "1      morning name stop bank cardmember service debt...  \n",
       "2      card agent upgrade anniversary date agent info...  \n",
       "10     chase card application identity consent servic...  \n",
       "11     ticket offer ticket reward card information of...  \n",
       "14     son check chase account fund chase bank accoun...  \n",
       "...                                                  ...  \n",
       "78303  chase card customer decade wa solicitation cre...  \n",
       "78309  wednesday visa credit card provider claim purc...  \n",
       "78310  pay risk consumer chase bank app chase year ba...  \n",
       "78311  credit yr chase credit card chase freedom prob...  \n",
       "78312  year account jp morgan chase bank order line c...  \n",
       "\n",
       "[21072 rows x 3 columns]"
      ]
     },
     "execution_count": 428,
     "metadata": {},
     "output_type": "execute_result"
    }
   ],
   "source": [
    "#The clean dataframe should now contain the raw complaint, lemmatized complaint and the complaint after removing POS tags.\n",
    "df_clean"
   ]
  },
  {
   "cell_type": "markdown",
   "metadata": {
    "id": "_7Un1AElJrF2"
   },
   "source": [
    "## Exploratory data analysis to get familiar with the data.\n",
    "\n",
    "Write the code in this task to perform the following:\n",
    "\n",
    "*   Visualise the data according to the 'Complaint' character length\n",
    "*   Using a word cloud find the top 40 words by frequency among all the articles after processing the text\n",
    "*   Find the top unigrams,bigrams and trigrams by frequency among all the complaints after processing the text. ‘\n",
    "\n",
    "\n"
   ]
  },
  {
   "cell_type": "code",
   "execution_count": 429,
   "metadata": {
    "id": "q-zaqJF6JrF2"
   },
   "outputs": [
    {
     "data": {
      "image/png": "[encoded data removed]",
      "text/plain": [
       "<Figure size 720x432 with 1 Axes>"
      ]
     },
     "metadata": {
      "needs_background": "light"
     },
     "output_type": "display_data"
    }
   ],
   "source": [
    "# Write your code here to visualise the data according to the 'Complaint' character length\n",
    "plt.figure(figsize=(10,6))\n",
    "doc_lens = [len(d) for d in df_clean.complaint_POS_removed]\n",
    "plt.hist(doc_lens, bins = 50)\n",
    "plt.show()"
   ]
  },
  {
   "cell_type": "markdown",
   "metadata": {
    "id": "T9jD_6SeJrF3"
   },
   "source": [
    "#### Find the top 40 words by frequency among all the articles after processing the text."
   ]
  },
  {
   "cell_type": "code",
   "execution_count": 430,
   "metadata": {},
   "outputs": [
    {
     "name": "stdout",
     "output_type": "stream",
     "text": [
      "Defaulting to user installation because normal site-packages is not writeable\n",
      "Requirement already satisfied: wordcloud in /home/rakeshpc/.local/lib/python3.8/site-packages (1.9.3)\n",
      "Requirement already satisfied: numpy>=1.6.1 in /home/rakeshpc/.local/lib/python3.8/site-packages (from wordcloud) (1.21.2)\n",
      "Requirement already satisfied: pillow in /home/rakeshpc/.local/lib/python3.8/site-packages (from wordcloud) (10.1.0)\n",
      "Requirement already satisfied: matplotlib in /home/rakeshpc/.local/lib/python3.8/site-packages (from wordcloud) (3.4.3)\n",
      "Requirement already satisfied: cycler>=0.10 in /home/rakeshpc/.local/lib/python3.8/site-packages (from matplotlib->wordcloud) (0.10.0)\n",
      "Requirement already satisfied: kiwisolver>=1.0.1 in /home/rakeshpc/.local/lib/python3.8/site-packages (from matplotlib->wordcloud) (1.3.2)\n",
      "Requirement already satisfied: pyparsing>=2.2.1 in /home/rakeshpc/.local/lib/python3.8/site-packages (from matplotlib->wordcloud) (2.4.7)\n",
      "Requirement already satisfied: python-dateutil>=2.7 in /usr/lib/python3/dist-packages (from matplotlib->wordcloud) (2.7.3)\n",
      "Requirement already satisfied: six in /usr/lib/python3/dist-packages (from cycler>=0.10->matplotlib->wordcloud) (1.14.0)\n",
      "\u001b[33mDEPRECATION: distro-info 0.23ubuntu1 has a non-standard version number. pip 24.0 will enforce this behaviour change. A possible replacement is to upgrade to a newer version of distro-info or contact the author to suggest that they release a version with a conforming version number. Discussion can be found at https://github.com/pypa/pip/issues/12063\u001b[0m\u001b[33m\n",
      "\u001b[0m\u001b[33mDEPRECATION: python-debian 0.1.36ubuntu1 has a non-standard version number. pip 24.0 will enforce this behaviour change. A possible replacement is to upgrade to a newer version of python-debian or contact the author to suggest that they release a version with a conforming version number. Discussion can be found at https://github.com/pypa/pip/issues/12063\u001b[0m\u001b[33m\n",
      "\u001b[0m\n",
      "\u001b[1m[\u001b[0m\u001b[34;49mnotice\u001b[0m\u001b[1;39;49m]\u001b[0m\u001b[39;49m A new release of pip is available: \u001b[0m\u001b[31;49m23.3.1\u001b[0m\u001b[39;49m -> \u001b[0m\u001b[32;49m23.3.2\u001b[0m\n",
      "\u001b[1m[\u001b[0m\u001b[34;49mnotice\u001b[0m\u001b[1;39;49m]\u001b[0m\u001b[39;49m To update, run: \u001b[0m\u001b[32;49mpython3 -m pip install --upgrade pip\u001b[0m\n",
      "Defaulting to user installation because normal site-packages is not writeable\n",
      "Requirement already satisfied: Pillow==10.1.0 in /home/rakeshpc/.local/lib/python3.8/site-packages (10.1.0)\n",
      "\u001b[33mDEPRECATION: distro-info 0.23ubuntu1 has a non-standard version number. pip 24.0 will enforce this behaviour change. A possible replacement is to upgrade to a newer version of distro-info or contact the author to suggest that they release a version with a conforming version number. Discussion can be found at https://github.com/pypa/pip/issues/12063\u001b[0m\u001b[33m\n",
      "\u001b[0m\u001b[33mDEPRECATION: python-debian 0.1.36ubuntu1 has a non-standard version number. pip 24.0 will enforce this behaviour change. A possible replacement is to upgrade to a newer version of python-debian or contact the author to suggest that they release a version with a conforming version number. Discussion can be found at https://github.com/pypa/pip/issues/12063\u001b[0m\u001b[33m\n",
      "\u001b[0m\n",
      "\u001b[1m[\u001b[0m\u001b[34;49mnotice\u001b[0m\u001b[1;39;49m]\u001b[0m\u001b[39;49m A new release of pip is available: \u001b[0m\u001b[31;49m23.3.1\u001b[0m\u001b[39;49m -> \u001b[0m\u001b[32;49m23.3.2\u001b[0m\n",
      "\u001b[1m[\u001b[0m\u001b[34;49mnotice\u001b[0m\u001b[1;39;49m]\u001b[0m\u001b[39;49m To update, run: \u001b[0m\u001b[32;49mpython3 -m pip install --upgrade pip\u001b[0m\n"
     ]
    }
   ],
   "source": [
    "!pip install wordcloud\n",
    "!python3 -m pip install --upgrade Pillow==10.1.0"
   ]
  },
  {
   "cell_type": "code",
   "execution_count": 431,
   "metadata": {
    "id": "QcfdvtfZJrF3"
   },
   "outputs": [
    {
     "ename": "AttributeError",
     "evalue": "'ImageDraw' object has no attribute 'textbbox'",
     "output_type": "error",
     "traceback": [
      "\u001b[0;31m---------------------------------------------------------------------------\u001b[0m",
      "\u001b[0;31mAttributeError\u001b[0m                            Traceback (most recent call last)",
      "\u001b[0;32m/tmp/ipykernel_5209/1775579292.py\u001b[0m in \u001b[0;36m<module>\u001b[0;34m\u001b[0m\n\u001b[1;32m      3\u001b[0m \u001b[0;34m\u001b[0m\u001b[0m\n\u001b[1;32m      4\u001b[0m \u001b[0mstopwords\u001b[0m \u001b[0;34m=\u001b[0m \u001b[0mset\u001b[0m\u001b[0;34m(\u001b[0m\u001b[0mSTOPWORDS\u001b[0m\u001b[0;34m)\u001b[0m\u001b[0;34m\u001b[0m\u001b[0;34m\u001b[0m\u001b[0m\n\u001b[0;32m----> 5\u001b[0;31m wordcloud = WordCloud(max_font_size=60, max_words=40, \n\u001b[0m\u001b[1;32m      6\u001b[0m                       \u001b[0mbackground_color\u001b[0m\u001b[0;34m=\u001b[0m\u001b[0;34m\"white\"\u001b[0m\u001b[0;34m,\u001b[0m \u001b[0mrandom_state\u001b[0m\u001b[0;34m=\u001b[0m\u001b[0;36m100\u001b[0m\u001b[0;34m,\u001b[0m\u001b[0;34m\u001b[0m\u001b[0;34m\u001b[0m\u001b[0m\n\u001b[1;32m      7\u001b[0m                       stopwords=stopwords).generate(str(df_clean['complaint_POS_removed']))\n",
      "\u001b[0;32m~/.local/lib/python3.8/site-packages/wordcloud/wordcloud.py\u001b[0m in \u001b[0;36mgenerate\u001b[0;34m(self, text)\u001b[0m\n\u001b[1;32m    640\u001b[0m         \u001b[0mself\u001b[0m\u001b[0;34m\u001b[0m\u001b[0;34m\u001b[0m\u001b[0m\n\u001b[1;32m    641\u001b[0m         \"\"\"\n\u001b[0;32m--> 642\u001b[0;31m         \u001b[0;32mreturn\u001b[0m \u001b[0mself\u001b[0m\u001b[0;34m.\u001b[0m\u001b[0mgenerate_from_text\u001b[0m\u001b[0;34m(\u001b[0m\u001b[0mtext\u001b[0m\u001b[0;34m)\u001b[0m\u001b[0;34m\u001b[0m\u001b[0;34m\u001b[0m\u001b[0m\n\u001b[0m\u001b[1;32m    643\u001b[0m \u001b[0;34m\u001b[0m\u001b[0m\n\u001b[1;32m    644\u001b[0m     \u001b[0;32mdef\u001b[0m \u001b[0m_check_generated\u001b[0m\u001b[0;34m(\u001b[0m\u001b[0mself\u001b[0m\u001b[0;34m)\u001b[0m\u001b[0;34m:\u001b[0m\u001b[0;34m\u001b[0m\u001b[0;34m\u001b[0m\u001b[0m\n",
      "\u001b[0;32m~/.local/lib/python3.8/site-packages/wordcloud/wordcloud.py\u001b[0m in \u001b[0;36mgenerate_from_text\u001b[0;34m(self, text)\u001b[0m\n\u001b[1;32m    622\u001b[0m         \"\"\"\n\u001b[1;32m    623\u001b[0m         \u001b[0mwords\u001b[0m \u001b[0;34m=\u001b[0m \u001b[0mself\u001b[0m\u001b[0;34m.\u001b[0m\u001b[0mprocess_text\u001b[0m\u001b[0;34m(\u001b[0m\u001b[0mtext\u001b[0m\u001b[0;34m)\u001b[0m\u001b[0;34m\u001b[0m\u001b[0;34m\u001b[0m\u001b[0m\n\u001b[0;32m--> 624\u001b[0;31m         \u001b[0mself\u001b[0m\u001b[0;34m.\u001b[0m\u001b[0mgenerate_from_frequencies\u001b[0m\u001b[0;34m(\u001b[0m\u001b[0mwords\u001b[0m\u001b[0;34m)\u001b[0m\u001b[0;34m\u001b[0m\u001b[0;34m\u001b[0m\u001b[0m\n\u001b[0m\u001b[1;32m    625\u001b[0m         \u001b[0;32mreturn\u001b[0m \u001b[0mself\u001b[0m\u001b[0;34m\u001b[0m\u001b[0;34m\u001b[0m\u001b[0m\n\u001b[1;32m    626\u001b[0m \u001b[0;34m\u001b[0m\u001b[0m\n",
      "\u001b[0;32m~/.local/lib/python3.8/site-packages/wordcloud/wordcloud.py\u001b[0m in \u001b[0;36mgenerate_from_frequencies\u001b[0;34m(self, frequencies, max_font_size)\u001b[0m\n\u001b[1;32m    509\u001b[0m                     font, orientation=orientation)\n\u001b[1;32m    510\u001b[0m                 \u001b[0;31m# get size of resulting text\u001b[0m\u001b[0;34m\u001b[0m\u001b[0;34m\u001b[0m\u001b[0;34m\u001b[0m\u001b[0m\n\u001b[0;32m--> 511\u001b[0;31m                 \u001b[0mbox_size\u001b[0m \u001b[0;34m=\u001b[0m \u001b[0mdraw\u001b[0m\u001b[0;34m.\u001b[0m\u001b[0mtextbbox\u001b[0m\u001b[0;34m(\u001b[0m\u001b[0;34m(\u001b[0m\u001b[0;36m0\u001b[0m\u001b[0;34m,\u001b[0m \u001b[0;36m0\u001b[0m\u001b[0;34m)\u001b[0m\u001b[0;34m,\u001b[0m \u001b[0mword\u001b[0m\u001b[0;34m,\u001b[0m \u001b[0mfont\u001b[0m\u001b[0;34m=\u001b[0m\u001b[0mtransposed_font\u001b[0m\u001b[0;34m,\u001b[0m \u001b[0manchor\u001b[0m\u001b[0;34m=\u001b[0m\u001b[0;34m\"lt\"\u001b[0m\u001b[0;34m)\u001b[0m\u001b[0;34m\u001b[0m\u001b[0;34m\u001b[0m\u001b[0m\n\u001b[0m\u001b[1;32m    512\u001b[0m                 \u001b[0;31m# find possible places using integral image:\u001b[0m\u001b[0;34m\u001b[0m\u001b[0;34m\u001b[0m\u001b[0;34m\u001b[0m\u001b[0m\n\u001b[1;32m    513\u001b[0m                 result = occupancy.sample_position(box_size[3] + self.margin,\n",
      "\u001b[0;31mAttributeError\u001b[0m: 'ImageDraw' object has no attribute 'textbbox'"
     ]
    }
   ],
   "source": [
    "#Using a word cloud find the top 40 words by frequency among all the articles after processing the text\n",
    "from wordcloud import WordCloud,STOPWORDS\n",
    "\n",
    "stopwords = set(STOPWORDS)\n",
    "wordcloud = WordCloud(max_font_size=60, max_words=40, \n",
    "                      background_color=\"white\", random_state=100, \n",
    "                      stopwords=stopwords).generate(str(df_clean['complaint_POS_removed']))\n",
    "plt.figure(figsize=[12,12])\n",
    "plt.imshow(wordcloud, interpolation=\"bilinear\")\n",
    "plt.axis(\"off\")\n",
    "plt.show()"
   ]
  },
  {
   "cell_type": "code",
   "execution_count": 440,
   "metadata": {
    "id": "OkSmc3UaJrF4"
   },
   "outputs": [
    {
     "data": {
      "text/html": [
       "<div>\n",
       "<style scoped>\n",
       "    .dataframe tbody tr th:only-of-type {\n",
       "        vertical-align: middle;\n",
       "    }\n",
       "\n",
       "    .dataframe tbody tr th {\n",
       "        vertical-align: top;\n",
       "    }\n",
       "\n",
       "    .dataframe thead th {\n",
       "        text-align: right;\n",
       "    }\n",
       "</style>\n",
       "<table border=\"1\" class=\"dataframe\">\n",
       "  <thead>\n",
       "    <tr style=\"text-align: right;\">\n",
       "      <th></th>\n",
       "      <th>complaints</th>\n",
       "      <th>lemma</th>\n",
       "      <th>complaint_POS_removed</th>\n",
       "      <th>Complaint_clean</th>\n",
       "    </tr>\n",
       "  </thead>\n",
       "  <tbody>\n",
       "    <tr>\n",
       "      <th>1</th>\n",
       "      <td>good morning my name is and i appreciate it if...</td>\n",
       "      <td>good morning my name is and i appreciate it if...</td>\n",
       "      <td>morning name stop bank cardmember service debt...</td>\n",
       "      <td>morning name stop bank cardmember service debt...</td>\n",
       "    </tr>\n",
       "    <tr>\n",
       "      <th>2</th>\n",
       "      <td>i upgraded my card in and was told by the agen...</td>\n",
       "      <td>i upgraded my card in and wa told by the agent...</td>\n",
       "      <td>card agent upgrade anniversary date agent info...</td>\n",
       "      <td>card agent upgrade anniversary date agent info...</td>\n",
       "    </tr>\n",
       "    <tr>\n",
       "      <th>10</th>\n",
       "      <td>chase card was reported on however fraudulent ...</td>\n",
       "      <td>chase card wa reported on however fraudulent a...</td>\n",
       "      <td>chase card application identity consent servic...</td>\n",
       "      <td>chase card application identity consent servic...</td>\n",
       "    </tr>\n",
       "    <tr>\n",
       "      <th>11</th>\n",
       "      <td>on while trying to book a ticket i came across...</td>\n",
       "      <td>on while trying to book a ticket i came across...</td>\n",
       "      <td>ticket offer ticket reward card information of...</td>\n",
       "      <td>ticket offer ticket reward card information of...</td>\n",
       "    </tr>\n",
       "    <tr>\n",
       "      <th>14</th>\n",
       "      <td>my grand son give me check for i deposit it in...</td>\n",
       "      <td>my grand son give me check for i deposit it in...</td>\n",
       "      <td>son check chase account fund chase bank accoun...</td>\n",
       "      <td>son check chase account fund chase bank accoun...</td>\n",
       "    </tr>\n",
       "    <tr>\n",
       "      <th>...</th>\n",
       "      <td>...</td>\n",
       "      <td>...</td>\n",
       "      <td>...</td>\n",
       "      <td>...</td>\n",
       "    </tr>\n",
       "    <tr>\n",
       "      <th>78303</th>\n",
       "      <td>after being a chase card customer for well ove...</td>\n",
       "      <td>after being a chase card customer for well ove...</td>\n",
       "      <td>chase card customer decade wa solicitation cre...</td>\n",
       "      <td>chase card customer decade wa solicitation cre...</td>\n",
       "    </tr>\n",
       "    <tr>\n",
       "      <th>78309</th>\n",
       "      <td>on wednesday i called chas my visa credit card...</td>\n",
       "      <td>on wednesday i called chas my visa credit card...</td>\n",
       "      <td>wednesday visa credit card provider claim purc...</td>\n",
       "      <td>wednesday visa credit card provider claim purc...</td>\n",
       "    </tr>\n",
       "    <tr>\n",
       "      <th>78310</th>\n",
       "      <td>i am not familiar with pay and did not underst...</td>\n",
       "      <td>i am not familiar with pay and did not underst...</td>\n",
       "      <td>pay risk consumer chase bank app chase year ba...</td>\n",
       "      <td>pay risk consumer chase bank app chase year ba...</td>\n",
       "    </tr>\n",
       "    <tr>\n",
       "      <th>78311</th>\n",
       "      <td>i have had flawless credit for yrs i ve had ch...</td>\n",
       "      <td>i have had flawless credit for yr i ve had cha...</td>\n",
       "      <td>credit yr chase credit card chase freedom prob...</td>\n",
       "      <td>credit yr chase credit card chase freedom prob...</td>\n",
       "    </tr>\n",
       "    <tr>\n",
       "      <th>78312</th>\n",
       "      <td>roughly years ago i closed out my accounts wit...</td>\n",
       "      <td>roughly year ago i closed out my account with ...</td>\n",
       "      <td>year account jp morgan chase bank order line c...</td>\n",
       "      <td>year account jp morgan chase bank order line c...</td>\n",
       "    </tr>\n",
       "  </tbody>\n",
       "</table>\n",
       "<p>21072 rows × 4 columns</p>\n",
       "</div>"
      ],
      "text/plain": [
       "                                              complaints  \\\n",
       "1      good morning my name is and i appreciate it if...   \n",
       "2      i upgraded my card in and was told by the agen...   \n",
       "10     chase card was reported on however fraudulent ...   \n",
       "11     on while trying to book a ticket i came across...   \n",
       "14     my grand son give me check for i deposit it in...   \n",
       "...                                                  ...   \n",
       "78303  after being a chase card customer for well ove...   \n",
       "78309  on wednesday i called chas my visa credit card...   \n",
       "78310  i am not familiar with pay and did not underst...   \n",
       "78311  i have had flawless credit for yrs i ve had ch...   \n",
       "78312  roughly years ago i closed out my accounts wit...   \n",
       "\n",
       "                                                   lemma  \\\n",
       "1      good morning my name is and i appreciate it if...   \n",
       "2      i upgraded my card in and wa told by the agent...   \n",
       "10     chase card wa reported on however fraudulent a...   \n",
       "11     on while trying to book a ticket i came across...   \n",
       "14     my grand son give me check for i deposit it in...   \n",
       "...                                                  ...   \n",
       "78303  after being a chase card customer for well ove...   \n",
       "78309  on wednesday i called chas my visa credit card...   \n",
       "78310  i am not familiar with pay and did not underst...   \n",
       "78311  i have had flawless credit for yr i ve had cha...   \n",
       "78312  roughly year ago i closed out my account with ...   \n",
       "\n",
       "                                   complaint_POS_removed  \\\n",
       "1      morning name stop bank cardmember service debt...   \n",
       "2      card agent upgrade anniversary date agent info...   \n",
       "10     chase card application identity consent servic...   \n",
       "11     ticket offer ticket reward card information of...   \n",
       "14     son check chase account fund chase bank accoun...   \n",
       "...                                                  ...   \n",
       "78303  chase card customer decade wa solicitation cre...   \n",
       "78309  wednesday visa credit card provider claim purc...   \n",
       "78310  pay risk consumer chase bank app chase year ba...   \n",
       "78311  credit yr chase credit card chase freedom prob...   \n",
       "78312  year account jp morgan chase bank order line c...   \n",
       "\n",
       "                                         Complaint_clean  \n",
       "1      morning name stop bank cardmember service debt...  \n",
       "2      card agent upgrade anniversary date agent info...  \n",
       "10     chase card application identity consent servic...  \n",
       "11     ticket offer ticket reward card information of...  \n",
       "14     son check chase account fund chase bank accoun...  \n",
       "...                                                  ...  \n",
       "78303  chase card customer decade wa solicitation cre...  \n",
       "78309  wednesday visa credit card provider claim purc...  \n",
       "78310  pay risk consumer chase bank app chase year ba...  \n",
       "78311  credit yr chase credit card chase freedom prob...  \n",
       "78312  year account jp morgan chase bank order line c...  \n",
       "\n",
       "[21072 rows x 4 columns]"
      ]
     },
     "execution_count": 440,
     "metadata": {},
     "output_type": "execute_result"
    }
   ],
   "source": [
    "#Removing -PRON- from the text corpus\n",
    "df_clean['Complaint_clean'] = df_clean['complaint_POS_removed'].str.replace('-PRON-', '')\n",
    "df_clean"
   ]
  },
  {
   "cell_type": "code",
   "execution_count": 441,
   "metadata": {},
   "outputs": [],
   "source": [
    "def get_top_n_bigram(text, ngram=1, top=None):\n",
    "    vec = CountVectorizer(ngram_range=(ngram, ngram), stop_words='english').fit(text)\n",
    "    bag_of_words = vec.transform(text)\n",
    "\n",
    "    sum_words = bag_of_words.sum(axis=0) \n",
    "    words_freq = [(word, sum_words[0, idx]) for word, idx in vec.vocabulary_.items()]\n",
    "\n",
    "    words_freq =sorted(words_freq, key = lambda x: x[1], reverse=True)\n",
    "    return words_freq[:top]"
   ]
  },
  {
   "cell_type": "markdown",
   "metadata": {
    "id": "5DfCSbbmJrF4"
   },
   "source": [
    "#### Find the top unigrams,bigrams and trigrams by frequency among all the complaints after processing the text."
   ]
  },
  {
   "cell_type": "code",
   "execution_count": 442,
   "metadata": {
    "id": "5mbk5DS5JrF4"
   },
   "outputs": [
    {
     "data": {
      "text/plain": [
       "[('chase', 73619),\n",
       " ('account', 47786),\n",
       " ('credit', 32844),\n",
       " ('card', 30562),\n",
       " ('bank', 28136),\n",
       " ('payment', 21366),\n",
       " ('time', 16316),\n",
       " ('day', 13328),\n",
       " ('charge', 12139),\n",
       " ('money', 12006),\n",
       " ('loan', 11027),\n",
       " ('check', 10431),\n",
       " ('letter', 9706),\n",
       " ('information', 9688),\n",
       " ('fee', 9010),\n",
       " ('transaction', 8671),\n",
       " ('number', 8658),\n",
       " ('month', 8622),\n",
       " ('year', 8472),\n",
       " ('mortgage', 8215),\n",
       " ('customer', 8207),\n",
       " ('balance', 7798),\n",
       " ('service', 7683),\n",
       " ('company', 7663),\n",
       " ('phone', 7599),\n",
       " ('fraud', 7152),\n",
       " ('report', 7083),\n",
       " ('fund', 7043),\n",
       " ('claim', 6773),\n",
       " ('business', 5644)]"
      ]
     },
     "execution_count": 442,
     "metadata": {},
     "output_type": "execute_result"
    }
   ],
   "source": [
    "#Write your code here to find the top 30 unigram frequency among the complaints in the cleaned datafram(df_clean). \n",
    "top_30_unigrams = get_top_n_bigram(df_clean.Complaint_clean,ngram=1, top=30)\n",
    "top_30_unigrams"
   ]
  },
  {
   "cell_type": "code",
   "execution_count": 443,
   "metadata": {
    "id": "YX7fedm1JrF8"
   },
   "outputs": [
    {
     "data": {
      "text/plain": [
       "[('chase', 73619),\n",
       " ('account', 47786),\n",
       " ('credit', 32844),\n",
       " ('card', 30562),\n",
       " ('bank', 28136),\n",
       " ('payment', 21366),\n",
       " ('time', 16316),\n",
       " ('day', 13328),\n",
       " ('charge', 12139),\n",
       " ('money', 12006)]"
      ]
     },
     "execution_count": 443,
     "metadata": {},
     "output_type": "execute_result"
    }
   ],
   "source": [
    "#Print the top 10 words in the unigram frequency\n",
    "top_30_unigrams[:10]"
   ]
  },
  {
   "cell_type": "code",
   "execution_count": 444,
   "metadata": {},
   "outputs": [
    {
     "data": {
      "image/png": "[encoded data removed]",
      "text/plain": [
       "<Figure size 864x432 with 1 Axes>"
      ]
     },
     "metadata": {
      "needs_background": "light"
     },
     "output_type": "display_data"
    }
   ],
   "source": [
    "#Plot graph for the top 30 words in the unigram frequency\n",
    "df1 = pd.DataFrame(top_30_unigrams, columns = ['unigram' , 'count'])\n",
    "plt.figure(figsize=(12,6))\n",
    "fig = sns.barplot(x=df1['unigram'], y=df1['count'])\n",
    "plt.xticks(rotation = 80)\n",
    "plt.show()"
   ]
  },
  {
   "cell_type": "code",
   "execution_count": 445,
   "metadata": {
    "id": "aV7kD7w8JrF8"
   },
   "outputs": [
    {
     "data": {
      "text/plain": [
       "[('credit card', 12939),\n",
       " ('chase bank', 12276),\n",
       " ('account chase', 4710),\n",
       " ('credit report', 3892),\n",
       " ('chase credit', 3831),\n",
       " ('checking account', 3555),\n",
       " ('chase account', 3358),\n",
       " ('customer service', 3097),\n",
       " ('bank account', 2966),\n",
       " ('account account', 2742),\n",
       " ('morgan chase', 2506),\n",
       " ('card chase', 2475),\n",
       " ('debit card', 2056),\n",
       " ('chase card', 1999),\n",
       " ('card account', 1764),\n",
       " ('credit score', 1717),\n",
       " ('payment payment', 1688),\n",
       " ('chase chase', 1665),\n",
       " ('account credit', 1625),\n",
       " ('letter chase', 1482),\n",
       " ('money account', 1446),\n",
       " ('payment chase', 1417),\n",
       " ('chase customer', 1397),\n",
       " ('bank chase', 1355),\n",
       " ('credit bureau', 1317),\n",
       " ('business day', 1274),\n",
       " ('phone number', 1271),\n",
       " ('account number', 1239),\n",
       " ('charge chase', 1206),\n",
       " ('card card', 1198)]"
      ]
     },
     "execution_count": 445,
     "metadata": {},
     "output_type": "execute_result"
    }
   ],
   "source": [
    "#Write your code here to find the top 30 bigram frequency among the complaints in the cleaned datafram(df_clean). \n",
    "top_30_bigrams = get_top_n_bigram(df_clean.Complaint_clean,ngram=2, top=30)\n",
    "top_30_bigrams"
   ]
  },
  {
   "cell_type": "code",
   "execution_count": 446,
   "metadata": {
    "id": "NPnMNIpyJrF9"
   },
   "outputs": [
    {
     "data": {
      "text/plain": [
       "[('credit card', 12939),\n",
       " ('chase bank', 12276),\n",
       " ('account chase', 4710),\n",
       " ('credit report', 3892),\n",
       " ('chase credit', 3831),\n",
       " ('checking account', 3555),\n",
       " ('chase account', 3358),\n",
       " ('customer service', 3097),\n",
       " ('bank account', 2966),\n",
       " ('account account', 2742)]"
      ]
     },
     "execution_count": 446,
     "metadata": {},
     "output_type": "execute_result"
    }
   ],
   "source": [
    "#Print the top 10 words in the bigram frequency\n",
    "top_30_bigrams[:10]"
   ]
  },
  {
   "cell_type": "code",
   "execution_count": 447,
   "metadata": {},
   "outputs": [
    {
     "data": {
      "image/png": "[encoded data removed]",
      "text/plain": [
       "<Figure size 864x432 with 1 Axes>"
      ]
     },
     "metadata": {
      "needs_background": "light"
     },
     "output_type": "display_data"
    }
   ],
   "source": [
    "#Plot graph for the top 30 words in the bigram frequency\n",
    "df1 = pd.DataFrame(top_30_bigrams, columns = ['bigram' , 'count'])\n",
    "plt.figure(figsize=(12,6))\n",
    "fig = sns.barplot(x=df1['bigram'], y=df1['count'])\n",
    "plt.xticks(rotation = 80)\n",
    "plt.show()"
   ]
  },
  {
   "cell_type": "code",
   "execution_count": 448,
   "metadata": {
    "id": "Xkh7vtbtJrF-"
   },
   "outputs": [
    {
     "data": {
      "text/plain": [
       "[('chase credit card', 2635),\n",
       " ('credit card chase', 1163),\n",
       " ('credit card account', 1108),\n",
       " ('account chase bank', 1041),\n",
       " ('credit card company', 1004),\n",
       " ('chase bank account', 957),\n",
       " ('morgan chase bank', 706),\n",
       " ('chase customer service', 640),\n",
       " ('checking account chase', 619),\n",
       " ('jp morgan chase', 560),\n",
       " ('inquiry credit report', 549),\n",
       " ('credit card credit', 539),\n",
       " ('chase bank credit', 534),\n",
       " ('chase checking account', 516),\n",
       " ('chase bank chase', 460),\n",
       " ('card chase bank', 455),\n",
       " ('account credit card', 451),\n",
       " ('card credit card', 428),\n",
       " ('bank credit card', 409),\n",
       " ('bank chase bank', 399),\n",
       " ('credit reporting agency', 399),\n",
       " ('account chase account', 396),\n",
       " ('credit report credit', 371),\n",
       " ('charge credit card', 368),\n",
       " ('account credit report', 355),\n",
       " ('customer service representative', 347),\n",
       " ('credit card payment', 338),\n",
       " ('credit report chase', 329),\n",
       " ('credit reporting act', 323),\n",
       " ('chase account chase', 298)]"
      ]
     },
     "execution_count": 448,
     "metadata": {},
     "output_type": "execute_result"
    }
   ],
   "source": [
    "#Write your code here to find the top 30 trigram frequency among the complaints in the cleaned datafram(df_clean). \n",
    "top_30_trigrams = get_top_n_bigram(df_clean.Complaint_clean,ngram=3, top=30)\n",
    "top_30_trigrams"
   ]
  },
  {
   "cell_type": "code",
   "execution_count": 449,
   "metadata": {
    "id": "REcVxNfvJrF-"
   },
   "outputs": [
    {
     "data": {
      "text/plain": [
       "[('chase credit card', 2635),\n",
       " ('credit card chase', 1163),\n",
       " ('credit card account', 1108),\n",
       " ('account chase bank', 1041),\n",
       " ('credit card company', 1004),\n",
       " ('chase bank account', 957),\n",
       " ('morgan chase bank', 706),\n",
       " ('chase customer service', 640),\n",
       " ('checking account chase', 619),\n",
       " ('jp morgan chase', 560)]"
      ]
     },
     "execution_count": 449,
     "metadata": {},
     "output_type": "execute_result"
    }
   ],
   "source": [
    "#Print the top 10 words in the trigram frequency\n",
    "top_30_trigrams[:10]"
   ]
  },
  {
   "cell_type": "code",
   "execution_count": 450,
   "metadata": {},
   "outputs": [
    {
     "data": {
      "image/png": "[encoded data removed]",
      "text/plain": [
       "<Figure size 864x432 with 1 Axes>"
      ]
     },
     "metadata": {
      "needs_background": "light"
     },
     "output_type": "display_data"
    }
   ],
   "source": [
    "#Plot graph for the top 30 words in the trigram frequency\n",
    "df1 = pd.DataFrame(top_30_trigrams, columns = ['trigram' , 'count'])\n",
    "plt.figure(figsize=(12,6))\n",
    "fig = sns.barplot(x=df1['trigram'], y=df1['count'])\n",
    "plt.xticks(rotation = 80)\n",
    "plt.show()"
   ]
  },
  {
   "cell_type": "markdown",
   "metadata": {
    "id": "yUXzFji0JrF_"
   },
   "source": [
    "## The personal details of customer has been masked in the dataset with xxxx. Let's remove the masked text as this will be of no use for our analysis"
   ]
  },
  {
   "cell_type": "code",
   "execution_count": 451,
   "metadata": {
    "id": "wKda-a_IJrF_"
   },
   "outputs": [],
   "source": [
    "df_clean['Complaint_clean'] = df_clean['Complaint_clean'].str.replace('xxxx','')"
   ]
  },
  {
   "cell_type": "code",
   "execution_count": 452,
   "metadata": {
    "id": "9UIFk8fQJrF_"
   },
   "outputs": [
    {
     "data": {
      "text/html": [
       "<div>\n",
       "<style scoped>\n",
       "    .dataframe tbody tr th:only-of-type {\n",
       "        vertical-align: middle;\n",
       "    }\n",
       "\n",
       "    .dataframe tbody tr th {\n",
       "        vertical-align: top;\n",
       "    }\n",
       "\n",
       "    .dataframe thead th {\n",
       "        text-align: right;\n",
       "    }\n",
       "</style>\n",
       "<table border=\"1\" class=\"dataframe\">\n",
       "  <thead>\n",
       "    <tr style=\"text-align: right;\">\n",
       "      <th></th>\n",
       "      <th>complaints</th>\n",
       "      <th>lemma</th>\n",
       "      <th>complaint_POS_removed</th>\n",
       "      <th>Complaint_clean</th>\n",
       "    </tr>\n",
       "  </thead>\n",
       "  <tbody>\n",
       "    <tr>\n",
       "      <th>1</th>\n",
       "      <td>good morning my name is and i appreciate it if...</td>\n",
       "      <td>good morning my name is and i appreciate it if...</td>\n",
       "      <td>morning name stop bank cardmember service debt...</td>\n",
       "      <td>morning name stop bank cardmember service debt...</td>\n",
       "    </tr>\n",
       "    <tr>\n",
       "      <th>2</th>\n",
       "      <td>i upgraded my card in and was told by the agen...</td>\n",
       "      <td>i upgraded my card in and wa told by the agent...</td>\n",
       "      <td>card agent upgrade anniversary date agent info...</td>\n",
       "      <td>card agent upgrade anniversary date agent info...</td>\n",
       "    </tr>\n",
       "    <tr>\n",
       "      <th>10</th>\n",
       "      <td>chase card was reported on however fraudulent ...</td>\n",
       "      <td>chase card wa reported on however fraudulent a...</td>\n",
       "      <td>chase card application identity consent servic...</td>\n",
       "      <td>chase card application identity consent servic...</td>\n",
       "    </tr>\n",
       "    <tr>\n",
       "      <th>11</th>\n",
       "      <td>on while trying to book a ticket i came across...</td>\n",
       "      <td>on while trying to book a ticket i came across...</td>\n",
       "      <td>ticket offer ticket reward card information of...</td>\n",
       "      <td>ticket offer ticket reward card information of...</td>\n",
       "    </tr>\n",
       "    <tr>\n",
       "      <th>14</th>\n",
       "      <td>my grand son give me check for i deposit it in...</td>\n",
       "      <td>my grand son give me check for i deposit it in...</td>\n",
       "      <td>son check chase account fund chase bank accoun...</td>\n",
       "      <td>son check chase account fund chase bank accoun...</td>\n",
       "    </tr>\n",
       "    <tr>\n",
       "      <th>...</th>\n",
       "      <td>...</td>\n",
       "      <td>...</td>\n",
       "      <td>...</td>\n",
       "      <td>...</td>\n",
       "    </tr>\n",
       "    <tr>\n",
       "      <th>78303</th>\n",
       "      <td>after being a chase card customer for well ove...</td>\n",
       "      <td>after being a chase card customer for well ove...</td>\n",
       "      <td>chase card customer decade wa solicitation cre...</td>\n",
       "      <td>chase card customer decade wa solicitation cre...</td>\n",
       "    </tr>\n",
       "    <tr>\n",
       "      <th>78309</th>\n",
       "      <td>on wednesday i called chas my visa credit card...</td>\n",
       "      <td>on wednesday i called chas my visa credit card...</td>\n",
       "      <td>wednesday visa credit card provider claim purc...</td>\n",
       "      <td>wednesday visa credit card provider claim purc...</td>\n",
       "    </tr>\n",
       "    <tr>\n",
       "      <th>78310</th>\n",
       "      <td>i am not familiar with pay and did not underst...</td>\n",
       "      <td>i am not familiar with pay and did not underst...</td>\n",
       "      <td>pay risk consumer chase bank app chase year ba...</td>\n",
       "      <td>pay risk consumer chase bank app chase year ba...</td>\n",
       "    </tr>\n",
       "    <tr>\n",
       "      <th>78311</th>\n",
       "      <td>i have had flawless credit for yrs i ve had ch...</td>\n",
       "      <td>i have had flawless credit for yr i ve had cha...</td>\n",
       "      <td>credit yr chase credit card chase freedom prob...</td>\n",
       "      <td>credit yr chase credit card chase freedom prob...</td>\n",
       "    </tr>\n",
       "    <tr>\n",
       "      <th>78312</th>\n",
       "      <td>roughly years ago i closed out my accounts wit...</td>\n",
       "      <td>roughly year ago i closed out my account with ...</td>\n",
       "      <td>year account jp morgan chase bank order line c...</td>\n",
       "      <td>year account jp morgan chase bank order line c...</td>\n",
       "    </tr>\n",
       "  </tbody>\n",
       "</table>\n",
       "<p>21072 rows × 4 columns</p>\n",
       "</div>"
      ],
      "text/plain": [
       "                                              complaints  \\\n",
       "1      good morning my name is and i appreciate it if...   \n",
       "2      i upgraded my card in and was told by the agen...   \n",
       "10     chase card was reported on however fraudulent ...   \n",
       "11     on while trying to book a ticket i came across...   \n",
       "14     my grand son give me check for i deposit it in...   \n",
       "...                                                  ...   \n",
       "78303  after being a chase card customer for well ove...   \n",
       "78309  on wednesday i called chas my visa credit card...   \n",
       "78310  i am not familiar with pay and did not underst...   \n",
       "78311  i have had flawless credit for yrs i ve had ch...   \n",
       "78312  roughly years ago i closed out my accounts wit...   \n",
       "\n",
       "                                                   lemma  \\\n",
       "1      good morning my name is and i appreciate it if...   \n",
       "2      i upgraded my card in and wa told by the agent...   \n",
       "10     chase card wa reported on however fraudulent a...   \n",
       "11     on while trying to book a ticket i came across...   \n",
       "14     my grand son give me check for i deposit it in...   \n",
       "...                                                  ...   \n",
       "78303  after being a chase card customer for well ove...   \n",
       "78309  on wednesday i called chas my visa credit card...   \n",
       "78310  i am not familiar with pay and did not underst...   \n",
       "78311  i have had flawless credit for yr i ve had cha...   \n",
       "78312  roughly year ago i closed out my account with ...   \n",
       "\n",
       "                                   complaint_POS_removed  \\\n",
       "1      morning name stop bank cardmember service debt...   \n",
       "2      card agent upgrade anniversary date agent info...   \n",
       "10     chase card application identity consent servic...   \n",
       "11     ticket offer ticket reward card information of...   \n",
       "14     son check chase account fund chase bank accoun...   \n",
       "...                                                  ...   \n",
       "78303  chase card customer decade wa solicitation cre...   \n",
       "78309  wednesday visa credit card provider claim purc...   \n",
       "78310  pay risk consumer chase bank app chase year ba...   \n",
       "78311  credit yr chase credit card chase freedom prob...   \n",
       "78312  year account jp morgan chase bank order line c...   \n",
       "\n",
       "                                         Complaint_clean  \n",
       "1      morning name stop bank cardmember service debt...  \n",
       "2      card agent upgrade anniversary date agent info...  \n",
       "10     chase card application identity consent servic...  \n",
       "11     ticket offer ticket reward card information of...  \n",
       "14     son check chase account fund chase bank accoun...  \n",
       "...                                                  ...  \n",
       "78303  chase card customer decade wa solicitation cre...  \n",
       "78309  wednesday visa credit card provider claim purc...  \n",
       "78310  pay risk consumer chase bank app chase year ba...  \n",
       "78311  credit yr chase credit card chase freedom prob...  \n",
       "78312  year account jp morgan chase bank order line c...  \n",
       "\n",
       "[21072 rows x 4 columns]"
      ]
     },
     "execution_count": 452,
     "metadata": {},
     "output_type": "execute_result"
    }
   ],
   "source": [
    "#All masked texts has been removed\n",
    "df_clean"
   ]
  },
  {
   "cell_type": "code",
   "execution_count": 453,
   "metadata": {},
   "outputs": [
    {
     "data": {
      "text/plain": [
       "(21072, 4)"
      ]
     },
     "execution_count": 453,
     "metadata": {},
     "output_type": "execute_result"
    }
   ],
   "source": [
    "df_clean.shape"
   ]
  },
  {
   "cell_type": "markdown",
   "metadata": {
    "id": "k-I0k0QtJrGA"
   },
   "source": [
    "## Feature Extraction\n",
    "Convert the raw texts to a matrix of TF-IDF features\n",
    "\n",
    "**max_df** is used for removing terms that appear too frequently, also known as \"corpus-specific stop words\"\n",
    "max_df = 0.95 means \"ignore terms that appear in more than 95% of the complaints\"\n",
    "\n",
    "**min_df** is used for removing terms that appear too infrequently\n",
    "min_df = 2 means \"ignore terms that appear in less than 2 complaints\""
   ]
  },
  {
   "cell_type": "code",
   "execution_count": 454,
   "metadata": {
    "id": "Y8fGwaCPJrGA"
   },
   "outputs": [],
   "source": [
    "#Write your code here to initialise the TfidfVectorizer \n",
    "tf_idf = TfidfVectorizer(max_df=0.95, min_df=2, stop_words='english')"
   ]
  },
  {
   "cell_type": "markdown",
   "metadata": {
    "id": "yYzD85nTJrGA"
   },
   "source": [
    "#### Create a document term matrix using fit_transform\n",
    "\n",
    "The contents of a document term matrix are tuples of (complaint_id,token_id) tf-idf score:\n",
    "The tuples that are not there have a tf-idf score of 0"
   ]
  },
  {
   "cell_type": "code",
   "execution_count": 455,
   "metadata": {
    "id": "ffzdDpp_JrGB"
   },
   "outputs": [],
   "source": [
    "#Write your code here to create the Document Term Matrix by transforming the complaints column present in df_clean.\n",
    "document_term_matrix = tf_idf.fit_transform(df_clean['complaints'])"
   ]
  },
  {
   "cell_type": "markdown",
   "metadata": {
    "id": "7Q9lwvNEJrGB"
   },
   "source": [
    "## Topic Modelling using NMF\n",
    "\n",
    "Non-Negative Matrix Factorization (NMF) is an unsupervised technique so there are no labeling of topics that the model will be trained on. The way it works is that, NMF decomposes (or factorizes) high-dimensional vectors into a lower-dimensional representation. These lower-dimensional vectors are non-negative which also means their coefficients are non-negative.\n",
    "\n",
    "In this task you have to perform the following:\n",
    "\n",
    "* Find the best number of clusters \n",
    "* Apply the best number to create word clusters\n",
    "* Inspect & validate the correction of each cluster wrt the complaints \n",
    "* Correct the labels if needed \n",
    "* Map the clusters to topics/cluster names"
   ]
  },
  {
   "cell_type": "code",
   "execution_count": 456,
   "metadata": {
    "id": "amLT4omWJrGB"
   },
   "outputs": [],
   "source": [
    "from sklearn.decomposition import NMF"
   ]
  },
  {
   "cell_type": "markdown",
   "metadata": {
    "id": "0wYR1xUTJrGD"
   },
   "source": [
    "## Manual Topic Modeling\n",
    "You need to do take the trial & error approach to find the best num of topics for your NMF model.\n",
    "\n",
    "The only parameter that is required is the number of components i.e. the number of topics we want. This is the most crucial step in the whole topic modeling process and will greatly affect how good your final topics are."
   ]
  },
  {
   "cell_type": "code",
   "execution_count": 457,
   "metadata": {
    "id": "sgd2A6bhJrGD"
   },
   "outputs": [],
   "source": [
    "#Load your nmf_model with the n_components i.e 5\n",
    "num_topics = 5\n",
    "\n",
    "#keep the random_state =40\n",
    "nmf_model = NMF(random_state=40, n_components=num_topics)"
   ]
  },
  {
   "cell_type": "code",
   "execution_count": 458,
   "metadata": {
    "id": "VPMDYbt_JrGE"
   },
   "outputs": [
    {
     "name": "stderr",
     "output_type": "stream",
     "text": [
      "/home/rakeshpc/.local/lib/python3.8/site-packages/sklearn/decomposition/_nmf.py:289: FutureWarning:\n",
      "\n",
      "The 'init' value, when 'init=None' and n_components is less than n_samples and n_features, will be changed from 'nndsvd' to 'nndsvda' in 1.1 (renaming of 0.26).\n",
      "\n",
      "/home/rakeshpc/.local/lib/python3.8/site-packages/sklearn/utils/deprecation.py:87: FutureWarning:\n",
      "\n",
      "Function get_feature_names is deprecated; get_feature_names is deprecated in 1.0 and will be removed in 1.2. Please use get_feature_names_out instead.\n",
      "\n"
     ]
    },
    {
     "data": {
      "text/plain": [
       "14985"
      ]
     },
     "execution_count": 458,
     "metadata": {},
     "output_type": "execute_result"
    }
   ],
   "source": [
    "nmf_model.fit(document_term_matrix)\n",
    "len(tf_idf.get_feature_names())"
   ]
  },
  {
   "cell_type": "code",
   "execution_count": 459,
   "metadata": {
    "id": "16kRfat5JrGE"
   },
   "outputs": [
    {
     "data": {
      "text/html": [
       "<div>\n",
       "<style scoped>\n",
       "    .dataframe tbody tr th:only-of-type {\n",
       "        vertical-align: middle;\n",
       "    }\n",
       "\n",
       "    .dataframe tbody tr th {\n",
       "        vertical-align: top;\n",
       "    }\n",
       "\n",
       "    .dataframe thead th {\n",
       "        text-align: right;\n",
       "    }\n",
       "</style>\n",
       "<table border=\"1\" class=\"dataframe\">\n",
       "  <thead>\n",
       "    <tr style=\"text-align: right;\">\n",
       "      <th></th>\n",
       "      <th>Word 1</th>\n",
       "      <th>Word 2</th>\n",
       "      <th>Word 3</th>\n",
       "      <th>Word 4</th>\n",
       "      <th>Word 5</th>\n",
       "      <th>Word 6</th>\n",
       "      <th>Word 7</th>\n",
       "      <th>Word 8</th>\n",
       "      <th>Word 9</th>\n",
       "      <th>Word 10</th>\n",
       "      <th>Word 11</th>\n",
       "      <th>Word 12</th>\n",
       "      <th>Word 13</th>\n",
       "      <th>Word 14</th>\n",
       "      <th>Word 15</th>\n",
       "    </tr>\n",
       "  </thead>\n",
       "  <tbody>\n",
       "    <tr>\n",
       "      <th>Topic 1</th>\n",
       "      <td>card</td>\n",
       "      <td>chase</td>\n",
       "      <td>charges</td>\n",
       "      <td>charge</td>\n",
       "      <td>dispute</td>\n",
       "      <td>fraud</td>\n",
       "      <td>called</td>\n",
       "      <td>received</td>\n",
       "      <td>did</td>\n",
       "      <td>told</td>\n",
       "      <td>merchant</td>\n",
       "      <td>claim</td>\n",
       "      <td>transaction</td>\n",
       "      <td>said</td>\n",
       "      <td>refund</td>\n",
       "    </tr>\n",
       "    <tr>\n",
       "      <th>Topic 2</th>\n",
       "      <td>credit</td>\n",
       "      <td>card</td>\n",
       "      <td>report</td>\n",
       "      <td>inquiry</td>\n",
       "      <td>chase</td>\n",
       "      <td>inquiries</td>\n",
       "      <td>hard</td>\n",
       "      <td>cards</td>\n",
       "      <td>reporting</td>\n",
       "      <td>score</td>\n",
       "      <td>accounts</td>\n",
       "      <td>account</td>\n",
       "      <td>closed</td>\n",
       "      <td>debt</td>\n",
       "      <td>removed</td>\n",
       "    </tr>\n",
       "    <tr>\n",
       "      <th>Topic 3</th>\n",
       "      <td>loan</td>\n",
       "      <td>mortgage</td>\n",
       "      <td>chase</td>\n",
       "      <td>home</td>\n",
       "      <td>modification</td>\n",
       "      <td>property</td>\n",
       "      <td>foreclosure</td>\n",
       "      <td>payments</td>\n",
       "      <td>house</td>\n",
       "      <td>bank</td>\n",
       "      <td>years</td>\n",
       "      <td>sale</td>\n",
       "      <td>morgan</td>\n",
       "      <td>rate</td>\n",
       "      <td>jp</td>\n",
       "    </tr>\n",
       "    <tr>\n",
       "      <th>Topic 4</th>\n",
       "      <td>account</td>\n",
       "      <td>bank</td>\n",
       "      <td>check</td>\n",
       "      <td>chase</td>\n",
       "      <td>money</td>\n",
       "      <td>funds</td>\n",
       "      <td>checking</td>\n",
       "      <td>closed</td>\n",
       "      <td>deposit</td>\n",
       "      <td>branch</td>\n",
       "      <td>told</td>\n",
       "      <td>accounts</td>\n",
       "      <td>deposited</td>\n",
       "      <td>said</td>\n",
       "      <td>business</td>\n",
       "    </tr>\n",
       "    <tr>\n",
       "      <th>Topic 5</th>\n",
       "      <td>payment</td>\n",
       "      <td>late</td>\n",
       "      <td>payments</td>\n",
       "      <td>balance</td>\n",
       "      <td>paid</td>\n",
       "      <td>pay</td>\n",
       "      <td>month</td>\n",
       "      <td>fees</td>\n",
       "      <td>fee</td>\n",
       "      <td>statement</td>\n",
       "      <td>auto</td>\n",
       "      <td>account</td>\n",
       "      <td>chase</td>\n",
       "      <td>charged</td>\n",
       "      <td>monthly</td>\n",
       "    </tr>\n",
       "  </tbody>\n",
       "</table>\n",
       "</div>"
      ],
      "text/plain": [
       "          Word 1    Word 2    Word 3   Word 4        Word 5     Word 6  \\\n",
       "Topic 1     card     chase   charges   charge       dispute      fraud   \n",
       "Topic 2   credit      card    report  inquiry         chase  inquiries   \n",
       "Topic 3     loan  mortgage     chase     home  modification   property   \n",
       "Topic 4  account      bank     check    chase         money      funds   \n",
       "Topic 5  payment      late  payments  balance          paid        pay   \n",
       "\n",
       "              Word 7    Word 8     Word 9    Word 10   Word 11   Word 12  \\\n",
       "Topic 1       called  received        did       told  merchant     claim   \n",
       "Topic 2         hard     cards  reporting      score  accounts   account   \n",
       "Topic 3  foreclosure  payments      house       bank     years      sale   \n",
       "Topic 4     checking    closed    deposit     branch      told  accounts   \n",
       "Topic 5        month      fees        fee  statement      auto   account   \n",
       "\n",
       "             Word 13  Word 14   Word 15  \n",
       "Topic 1  transaction     said    refund  \n",
       "Topic 2       closed     debt   removed  \n",
       "Topic 3       morgan     rate        jp  \n",
       "Topic 4    deposited     said  business  \n",
       "Topic 5        chase  charged   monthly  "
      ]
     },
     "execution_count": 459,
     "metadata": {},
     "output_type": "execute_result"
    }
   ],
   "source": [
    "#Print the Top15 words for each of the topics\n",
    "words = np.array(tf_idf.get_feature_names())\n",
    "topic_words_df = pd.DataFrame(np.zeros((num_topics, 15)), index=[f'Topic {i + 1}' for i in range(num_topics)],\n",
    "                           columns=[f'Word {i + 1}' for i in range(15)]).astype(str)\n",
    "\n",
    "for i in range(num_topics):\n",
    "    ix = nmf_model.components_[i].argsort()[::-1][:15]\n",
    "    topic_words_df.iloc[i] = words[ix]\n",
    "\n",
    "topic_words_df"
   ]
  },
  {
   "cell_type": "code",
   "execution_count": 460,
   "metadata": {
    "id": "0OIT7LmFJrGF"
   },
   "outputs": [
    {
     "data": {
      "text/plain": [
       "array([2, 0, 1, ..., 0, 4, 4])"
      ]
     },
     "execution_count": 460,
     "metadata": {},
     "output_type": "execute_result"
    }
   ],
   "source": [
    "#Create the best topic for each complaint in terms of integer value 0,1,2,3 & 4\n",
    "\n",
    "topic_results = nmf_model.transform(document_term_matrix)\n",
    "topic_results.argmax(axis=1)"
   ]
  },
  {
   "cell_type": "code",
   "execution_count": 461,
   "metadata": {
    "id": "peyYv-ORJrGF"
   },
   "outputs": [],
   "source": [
    "#Assign the best topic to each of the cmplaints in Topic Column\n",
    "\n",
    "df_clean['Topic'] = topic_results.argmax(axis=1)"
   ]
  },
  {
   "cell_type": "code",
   "execution_count": 462,
   "metadata": {
    "id": "fLh_Gf3nJrGF"
   },
   "outputs": [
    {
     "data": {
      "text/html": [
       "<div>\n",
       "<style scoped>\n",
       "    .dataframe tbody tr th:only-of-type {\n",
       "        vertical-align: middle;\n",
       "    }\n",
       "\n",
       "    .dataframe tbody tr th {\n",
       "        vertical-align: top;\n",
       "    }\n",
       "\n",
       "    .dataframe thead th {\n",
       "        text-align: right;\n",
       "    }\n",
       "</style>\n",
       "<table border=\"1\" class=\"dataframe\">\n",
       "  <thead>\n",
       "    <tr style=\"text-align: right;\">\n",
       "      <th></th>\n",
       "      <th>complaints</th>\n",
       "      <th>lemma</th>\n",
       "      <th>complaint_POS_removed</th>\n",
       "      <th>Complaint_clean</th>\n",
       "      <th>Topic</th>\n",
       "    </tr>\n",
       "  </thead>\n",
       "  <tbody>\n",
       "    <tr>\n",
       "      <th>1</th>\n",
       "      <td>good morning my name is and i appreciate it if...</td>\n",
       "      <td>good morning my name is and i appreciate it if...</td>\n",
       "      <td>morning name stop bank cardmember service debt...</td>\n",
       "      <td>morning name stop bank cardmember service debt...</td>\n",
       "      <td>2</td>\n",
       "    </tr>\n",
       "    <tr>\n",
       "      <th>2</th>\n",
       "      <td>i upgraded my card in and was told by the agen...</td>\n",
       "      <td>i upgraded my card in and wa told by the agent...</td>\n",
       "      <td>card agent upgrade anniversary date agent info...</td>\n",
       "      <td>card agent upgrade anniversary date agent info...</td>\n",
       "      <td>0</td>\n",
       "    </tr>\n",
       "    <tr>\n",
       "      <th>10</th>\n",
       "      <td>chase card was reported on however fraudulent ...</td>\n",
       "      <td>chase card wa reported on however fraudulent a...</td>\n",
       "      <td>chase card application identity consent servic...</td>\n",
       "      <td>chase card application identity consent servic...</td>\n",
       "      <td>1</td>\n",
       "    </tr>\n",
       "    <tr>\n",
       "      <th>11</th>\n",
       "      <td>on while trying to book a ticket i came across...</td>\n",
       "      <td>on while trying to book a ticket i came across...</td>\n",
       "      <td>ticket offer ticket reward card information of...</td>\n",
       "      <td>ticket offer ticket reward card information of...</td>\n",
       "      <td>1</td>\n",
       "    </tr>\n",
       "    <tr>\n",
       "      <th>14</th>\n",
       "      <td>my grand son give me check for i deposit it in...</td>\n",
       "      <td>my grand son give me check for i deposit it in...</td>\n",
       "      <td>son check chase account fund chase bank accoun...</td>\n",
       "      <td>son check chase account fund chase bank accoun...</td>\n",
       "      <td>3</td>\n",
       "    </tr>\n",
       "  </tbody>\n",
       "</table>\n",
       "</div>"
      ],
      "text/plain": [
       "                                           complaints  \\\n",
       "1   good morning my name is and i appreciate it if...   \n",
       "2   i upgraded my card in and was told by the agen...   \n",
       "10  chase card was reported on however fraudulent ...   \n",
       "11  on while trying to book a ticket i came across...   \n",
       "14  my grand son give me check for i deposit it in...   \n",
       "\n",
       "                                                lemma  \\\n",
       "1   good morning my name is and i appreciate it if...   \n",
       "2   i upgraded my card in and wa told by the agent...   \n",
       "10  chase card wa reported on however fraudulent a...   \n",
       "11  on while trying to book a ticket i came across...   \n",
       "14  my grand son give me check for i deposit it in...   \n",
       "\n",
       "                                complaint_POS_removed  \\\n",
       "1   morning name stop bank cardmember service debt...   \n",
       "2   card agent upgrade anniversary date agent info...   \n",
       "10  chase card application identity consent servic...   \n",
       "11  ticket offer ticket reward card information of...   \n",
       "14  son check chase account fund chase bank accoun...   \n",
       "\n",
       "                                      Complaint_clean  Topic  \n",
       "1   morning name stop bank cardmember service debt...      2  \n",
       "2   card agent upgrade anniversary date agent info...      0  \n",
       "10  chase card application identity consent servic...      1  \n",
       "11  ticket offer ticket reward card information of...      1  \n",
       "14  son check chase account fund chase bank accoun...      3  "
      ]
     },
     "execution_count": 462,
     "metadata": {},
     "output_type": "execute_result"
    }
   ],
   "source": [
    "df_clean.head()"
   ]
  },
  {
   "cell_type": "code",
   "execution_count": 463,
   "metadata": {},
   "outputs": [
    {
     "data": {
      "text/plain": [
       "(21072, 5)"
      ]
     },
     "execution_count": 463,
     "metadata": {},
     "output_type": "execute_result"
    }
   ],
   "source": [
    "df_clean.shape"
   ]
  },
  {
   "cell_type": "code",
   "execution_count": 465,
   "metadata": {
    "id": "aQKpufSPJrGG"
   },
   "outputs": [
    {
     "data": {
      "text/html": [
       "<div>\n",
       "<style scoped>\n",
       "    .dataframe tbody tr th:only-of-type {\n",
       "        vertical-align: middle;\n",
       "    }\n",
       "\n",
       "    .dataframe tbody tr th {\n",
       "        vertical-align: top;\n",
       "    }\n",
       "\n",
       "    .dataframe thead th {\n",
       "        text-align: right;\n",
       "    }\n",
       "</style>\n",
       "<table border=\"1\" class=\"dataframe\">\n",
       "  <thead>\n",
       "    <tr style=\"text-align: right;\">\n",
       "      <th></th>\n",
       "      <th>complaints</th>\n",
       "      <th>lemma</th>\n",
       "      <th>complaint_POS_removed</th>\n",
       "      <th>Complaint_clean</th>\n",
       "      <th>Topic</th>\n",
       "    </tr>\n",
       "  </thead>\n",
       "  <tbody>\n",
       "    <tr>\n",
       "      <th>2</th>\n",
       "      <td>i upgraded my card in and was told by the agen...</td>\n",
       "      <td>i upgraded my card in and wa told by the agent...</td>\n",
       "      <td>card agent upgrade anniversary date agent info...</td>\n",
       "      <td>card agent upgrade anniversary date agent info...</td>\n",
       "      <td>0</td>\n",
       "    </tr>\n",
       "    <tr>\n",
       "      <th>21</th>\n",
       "      <td>on i made a payment to an online retailer usin...</td>\n",
       "      <td>on i made a payment to an online retailer usin...</td>\n",
       "      <td>payment retailer chase pay chase website scam ...</td>\n",
       "      <td>payment retailer chase pay chase website scam ...</td>\n",
       "      <td>0</td>\n",
       "    </tr>\n",
       "    <tr>\n",
       "      <th>43</th>\n",
       "      <td>chase sent me an email today with the innocuou...</td>\n",
       "      <td>chase sent me an email today with the innocuou...</td>\n",
       "      <td>chase email today title information change cha...</td>\n",
       "      <td>chase email today title information change cha...</td>\n",
       "      <td>0</td>\n",
       "    </tr>\n",
       "    <tr>\n",
       "      <th>40</th>\n",
       "      <td>a sofa love seat table and chairs and was neve...</td>\n",
       "      <td>a sofa love seat table and chair and wa never ...</td>\n",
       "      <td>sofa love seat table chair debit card bank vis...</td>\n",
       "      <td>sofa love seat table chair debit card bank vis...</td>\n",
       "      <td>0</td>\n",
       "    </tr>\n",
       "    <tr>\n",
       "      <th>32</th>\n",
       "      <td>my chase amazon card was declined for a cateri...</td>\n",
       "      <td>my chase amazon card wa declined for a caterin...</td>\n",
       "      <td>chase amazon card catering order brother funer...</td>\n",
       "      <td>chase amazon card catering order brother funer...</td>\n",
       "      <td>0</td>\n",
       "    </tr>\n",
       "    <tr>\n",
       "      <th>10</th>\n",
       "      <td>chase card was reported on however fraudulent ...</td>\n",
       "      <td>chase card wa reported on however fraudulent a...</td>\n",
       "      <td>chase card application identity consent servic...</td>\n",
       "      <td>chase card application identity consent servic...</td>\n",
       "      <td>1</td>\n",
       "    </tr>\n",
       "    <tr>\n",
       "      <th>11</th>\n",
       "      <td>on while trying to book a ticket i came across...</td>\n",
       "      <td>on while trying to book a ticket i came across...</td>\n",
       "      <td>ticket offer ticket reward card information of...</td>\n",
       "      <td>ticket offer ticket reward card information of...</td>\n",
       "      <td>1</td>\n",
       "    </tr>\n",
       "    <tr>\n",
       "      <th>15</th>\n",
       "      <td>can you please remove inquiry</td>\n",
       "      <td>can you please remove inquiry</td>\n",
       "      <td>inquiry</td>\n",
       "      <td>inquiry</td>\n",
       "      <td>1</td>\n",
       "    </tr>\n",
       "    <tr>\n",
       "      <th>23</th>\n",
       "      <td>i have a chase credit card which is incorrectl...</td>\n",
       "      <td>i have a chase credit card which is incorrectl...</td>\n",
       "      <td>chase credit card credit report company issue</td>\n",
       "      <td>chase credit card credit report company issue</td>\n",
       "      <td>1</td>\n",
       "    </tr>\n",
       "    <tr>\n",
       "      <th>26</th>\n",
       "      <td>i have reached out to several times in attempt...</td>\n",
       "      <td>i have reached out to several time in attempt ...</td>\n",
       "      <td>time attempt inquiry creditor inquiry report a...</td>\n",
       "      <td>time attempt inquiry creditor inquiry report a...</td>\n",
       "      <td>1</td>\n",
       "    </tr>\n",
       "    <tr>\n",
       "      <th>1</th>\n",
       "      <td>good morning my name is and i appreciate it if...</td>\n",
       "      <td>good morning my name is and i appreciate it if...</td>\n",
       "      <td>morning name stop bank cardmember service debt...</td>\n",
       "      <td>morning name stop bank cardmember service debt...</td>\n",
       "      <td>2</td>\n",
       "    </tr>\n",
       "    <tr>\n",
       "      <th>81</th>\n",
       "      <td>i bought a new on from in i paid the loan in b...</td>\n",
       "      <td>i bought a new on from in i paid the loan in b...</td>\n",
       "      <td>loan title chase time resolution time nothing ...</td>\n",
       "      <td>loan title chase time resolution time nothing ...</td>\n",
       "      <td>2</td>\n",
       "    </tr>\n",
       "    <tr>\n",
       "      <th>73</th>\n",
       "      <td>i have wired through one of chase branches in ...</td>\n",
       "      <td>i have wired through one of chase branch in th...</td>\n",
       "      <td>branch eact reinstatement amount chase bank or...</td>\n",
       "      <td>branch eact reinstatement amount chase bank or...</td>\n",
       "      <td>2</td>\n",
       "    </tr>\n",
       "    <tr>\n",
       "      <th>57</th>\n",
       "      <td>i have been trying to do a loan modification w...</td>\n",
       "      <td>i have been trying to do a loan modification w...</td>\n",
       "      <td>loan modification chase runaround payment doc</td>\n",
       "      <td>loan modification chase runaround payment doc</td>\n",
       "      <td>2</td>\n",
       "    </tr>\n",
       "    <tr>\n",
       "      <th>99</th>\n",
       "      <td>my name is i have missed a payment in and was ...</td>\n",
       "      <td>my name is i have missed a payment in and wa d...</td>\n",
       "      <td>name payment day past time loan modification l...</td>\n",
       "      <td>name payment day past time loan modification l...</td>\n",
       "      <td>2</td>\n",
       "    </tr>\n",
       "    <tr>\n",
       "      <th>27</th>\n",
       "      <td>i opened an account with chase bank on and use...</td>\n",
       "      <td>i opened an account with chase bank on and use...</td>\n",
       "      <td>account chase bank code bonus term everything ...</td>\n",
       "      <td>account chase bank code bonus term everything ...</td>\n",
       "      <td>3</td>\n",
       "    </tr>\n",
       "    <tr>\n",
       "      <th>24</th>\n",
       "      <td>mishandling of this account by chase auto and</td>\n",
       "      <td>mishandling of this account by chase auto and</td>\n",
       "      <td>account chase auto</td>\n",
       "      <td>account chase auto</td>\n",
       "      <td>3</td>\n",
       "    </tr>\n",
       "    <tr>\n",
       "      <th>17</th>\n",
       "      <td>with out notice j p morgan chase restricted my...</td>\n",
       "      <td>with out notice j p morgan chase restricted my...</td>\n",
       "      <td>notice morgan chase account debit card tuesday...</td>\n",
       "      <td>notice morgan chase account debit card tuesday...</td>\n",
       "      <td>3</td>\n",
       "    </tr>\n",
       "    <tr>\n",
       "      <th>14</th>\n",
       "      <td>my grand son give me check for i deposit it in...</td>\n",
       "      <td>my grand son give me check for i deposit it in...</td>\n",
       "      <td>son check chase account fund chase bank accoun...</td>\n",
       "      <td>son check chase account fund chase bank accoun...</td>\n",
       "      <td>3</td>\n",
       "    </tr>\n",
       "    <tr>\n",
       "      <th>35</th>\n",
       "      <td>i opened the saving account for the bonus i wa...</td>\n",
       "      <td>i opened the saving account for the bonus i wa...</td>\n",
       "      <td>saving account bonus bonus auto transfer trans...</td>\n",
       "      <td>saving account bonus bonus auto transfer trans...</td>\n",
       "      <td>3</td>\n",
       "    </tr>\n",
       "    <tr>\n",
       "      <th>30</th>\n",
       "      <td>to whom it may concern chase bank charged wron...</td>\n",
       "      <td>to whom it may concern chase bank charged wron...</td>\n",
       "      <td>chase bank overdraft fee alert balance fee bal...</td>\n",
       "      <td>chase bank overdraft fee alert balance fee bal...</td>\n",
       "      <td>4</td>\n",
       "    </tr>\n",
       "    <tr>\n",
       "      <th>20</th>\n",
       "      <td>during the summer months i eperience a decline...</td>\n",
       "      <td>during the summer month i eperience a decline ...</td>\n",
       "      <td>summer month decline income employment month p...</td>\n",
       "      <td>summer month decline income employment month p...</td>\n",
       "      <td>4</td>\n",
       "    </tr>\n",
       "    <tr>\n",
       "      <th>58</th>\n",
       "      <td>i made a purchase of on i made payments of on ...</td>\n",
       "      <td>i made a purchase of on i made payment of on a...</td>\n",
       "      <td>purchase payment payment closing date statemen...</td>\n",
       "      <td>purchase payment payment closing date statemen...</td>\n",
       "      <td>4</td>\n",
       "    </tr>\n",
       "    <tr>\n",
       "      <th>82</th>\n",
       "      <td>i recently called to ask chase bank why they r...</td>\n",
       "      <td>i recently called to ask chase bank why they r...</td>\n",
       "      <td>chase bank credit bureau day payment info bill...</td>\n",
       "      <td>chase bank credit bureau day payment info bill...</td>\n",
       "      <td>4</td>\n",
       "    </tr>\n",
       "    <tr>\n",
       "      <th>115</th>\n",
       "      <td>multiple times with the latest being chase has...</td>\n",
       "      <td>multiple time with the latest being chase ha m...</td>\n",
       "      <td>time being chase order credit account fee rece...</td>\n",
       "      <td>time being chase order credit account fee rece...</td>\n",
       "      <td>4</td>\n",
       "    </tr>\n",
       "  </tbody>\n",
       "</table>\n",
       "</div>"
      ],
      "text/plain": [
       "                                            complaints  \\\n",
       "2    i upgraded my card in and was told by the agen...   \n",
       "21   on i made a payment to an online retailer usin...   \n",
       "43   chase sent me an email today with the innocuou...   \n",
       "40   a sofa love seat table and chairs and was neve...   \n",
       "32   my chase amazon card was declined for a cateri...   \n",
       "10   chase card was reported on however fraudulent ...   \n",
       "11   on while trying to book a ticket i came across...   \n",
       "15                       can you please remove inquiry   \n",
       "23   i have a chase credit card which is incorrectl...   \n",
       "26   i have reached out to several times in attempt...   \n",
       "1    good morning my name is and i appreciate it if...   \n",
       "81   i bought a new on from in i paid the loan in b...   \n",
       "73   i have wired through one of chase branches in ...   \n",
       "57   i have been trying to do a loan modification w...   \n",
       "99   my name is i have missed a payment in and was ...   \n",
       "27   i opened an account with chase bank on and use...   \n",
       "24       mishandling of this account by chase auto and   \n",
       "17   with out notice j p morgan chase restricted my...   \n",
       "14   my grand son give me check for i deposit it in...   \n",
       "35   i opened the saving account for the bonus i wa...   \n",
       "30   to whom it may concern chase bank charged wron...   \n",
       "20   during the summer months i eperience a decline...   \n",
       "58   i made a purchase of on i made payments of on ...   \n",
       "82   i recently called to ask chase bank why they r...   \n",
       "115  multiple times with the latest being chase has...   \n",
       "\n",
       "                                                 lemma  \\\n",
       "2    i upgraded my card in and wa told by the agent...   \n",
       "21   on i made a payment to an online retailer usin...   \n",
       "43   chase sent me an email today with the innocuou...   \n",
       "40   a sofa love seat table and chair and wa never ...   \n",
       "32   my chase amazon card wa declined for a caterin...   \n",
       "10   chase card wa reported on however fraudulent a...   \n",
       "11   on while trying to book a ticket i came across...   \n",
       "15                       can you please remove inquiry   \n",
       "23   i have a chase credit card which is incorrectl...   \n",
       "26   i have reached out to several time in attempt ...   \n",
       "1    good morning my name is and i appreciate it if...   \n",
       "81   i bought a new on from in i paid the loan in b...   \n",
       "73   i have wired through one of chase branch in th...   \n",
       "57   i have been trying to do a loan modification w...   \n",
       "99   my name is i have missed a payment in and wa d...   \n",
       "27   i opened an account with chase bank on and use...   \n",
       "24       mishandling of this account by chase auto and   \n",
       "17   with out notice j p morgan chase restricted my...   \n",
       "14   my grand son give me check for i deposit it in...   \n",
       "35   i opened the saving account for the bonus i wa...   \n",
       "30   to whom it may concern chase bank charged wron...   \n",
       "20   during the summer month i eperience a decline ...   \n",
       "58   i made a purchase of on i made payment of on a...   \n",
       "82   i recently called to ask chase bank why they r...   \n",
       "115  multiple time with the latest being chase ha m...   \n",
       "\n",
       "                                 complaint_POS_removed  \\\n",
       "2    card agent upgrade anniversary date agent info...   \n",
       "21   payment retailer chase pay chase website scam ...   \n",
       "43   chase email today title information change cha...   \n",
       "40   sofa love seat table chair debit card bank vis...   \n",
       "32   chase amazon card catering order brother funer...   \n",
       "10   chase card application identity consent servic...   \n",
       "11   ticket offer ticket reward card information of...   \n",
       "15                                             inquiry   \n",
       "23       chase credit card credit report company issue   \n",
       "26   time attempt inquiry creditor inquiry report a...   \n",
       "1    morning name stop bank cardmember service debt...   \n",
       "81   loan title chase time resolution time nothing ...   \n",
       "73   branch eact reinstatement amount chase bank or...   \n",
       "57       loan modification chase runaround payment doc   \n",
       "99   name payment day past time loan modification l...   \n",
       "27   account chase bank code bonus term everything ...   \n",
       "24                                  account chase auto   \n",
       "17   notice morgan chase account debit card tuesday...   \n",
       "14   son check chase account fund chase bank accoun...   \n",
       "35   saving account bonus bonus auto transfer trans...   \n",
       "30   chase bank overdraft fee alert balance fee bal...   \n",
       "20   summer month decline income employment month p...   \n",
       "58   purchase payment payment closing date statemen...   \n",
       "82   chase bank credit bureau day payment info bill...   \n",
       "115  time being chase order credit account fee rece...   \n",
       "\n",
       "                                       Complaint_clean  Topic  \n",
       "2    card agent upgrade anniversary date agent info...      0  \n",
       "21   payment retailer chase pay chase website scam ...      0  \n",
       "43   chase email today title information change cha...      0  \n",
       "40   sofa love seat table chair debit card bank vis...      0  \n",
       "32   chase amazon card catering order brother funer...      0  \n",
       "10   chase card application identity consent servic...      1  \n",
       "11   ticket offer ticket reward card information of...      1  \n",
       "15                                             inquiry      1  \n",
       "23       chase credit card credit report company issue      1  \n",
       "26   time attempt inquiry creditor inquiry report a...      1  \n",
       "1    morning name stop bank cardmember service debt...      2  \n",
       "81   loan title chase time resolution time nothing ...      2  \n",
       "73   branch eact reinstatement amount chase bank or...      2  \n",
       "57       loan modification chase runaround payment doc      2  \n",
       "99   name payment day past time loan modification l...      2  \n",
       "27   account chase bank code bonus term everything ...      3  \n",
       "24                                  account chase auto      3  \n",
       "17   notice morgan chase account debit card tuesday...      3  \n",
       "14   son check chase account fund chase bank accoun...      3  \n",
       "35   saving account bonus bonus auto transfer trans...      3  \n",
       "30   chase bank overdraft fee alert balance fee bal...      4  \n",
       "20   summer month decline income employment month p...      4  \n",
       "58   purchase payment payment closing date statemen...      4  \n",
       "82   chase bank credit bureau day payment info bill...      4  \n",
       "115  time being chase order credit account fee rece...      4  "
      ]
     },
     "execution_count": 465,
     "metadata": {},
     "output_type": "execute_result"
    }
   ],
   "source": [
    "#Print the first 5 Complaint for each of the Topics\n",
    "df_clean_five=df_clean.groupby('Topic').head(5)\n",
    "df_clean_five.sort_values('Topic')"
   ]
  },
  {
   "cell_type": "markdown",
   "metadata": {
    "id": "piyLxzj6v07j"
   },
   "source": [
    "#### After evaluating the mapping, if the topics assigned are correct then assign these names to the relevant topic:\n",
    "* Bank Account services\n",
    "* Credit card or prepaid card\n",
    "* Theft/Dispute Reporting\n",
    "* Mortgage/Loan\n",
    "* Others"
   ]
  },
  {
   "cell_type": "code",
   "execution_count": 466,
   "metadata": {
    "id": "TWpwDG4RJrGG"
   },
   "outputs": [],
   "source": [
    "#Create the dictionary of Topic names and Topics\n",
    "\n",
    "Topic_names = {0:'Bank account services', 1:'Others', 2:'Mortgages/loans', 3:'Credit card / Prepaid card', 4:'Theft/Dispute reporting'}\n",
    "\n",
    "\n",
    "# Replace Topics with Topic Names\n",
    "df_clean['Topic'] = df_clean['Topic'].map(Topic_names)\n"
   ]
  },
  {
   "cell_type": "code",
   "execution_count": 467,
   "metadata": {
    "id": "-2ULY5K6JrGG"
   },
   "outputs": [
    {
     "data": {
      "text/html": [
       "<div>\n",
       "<style scoped>\n",
       "    .dataframe tbody tr th:only-of-type {\n",
       "        vertical-align: middle;\n",
       "    }\n",
       "\n",
       "    .dataframe tbody tr th {\n",
       "        vertical-align: top;\n",
       "    }\n",
       "\n",
       "    .dataframe thead th {\n",
       "        text-align: right;\n",
       "    }\n",
       "</style>\n",
       "<table border=\"1\" class=\"dataframe\">\n",
       "  <thead>\n",
       "    <tr style=\"text-align: right;\">\n",
       "      <th></th>\n",
       "      <th>complaints</th>\n",
       "      <th>lemma</th>\n",
       "      <th>complaint_POS_removed</th>\n",
       "      <th>Complaint_clean</th>\n",
       "      <th>Topic</th>\n",
       "    </tr>\n",
       "  </thead>\n",
       "  <tbody>\n",
       "    <tr>\n",
       "      <th>1</th>\n",
       "      <td>good morning my name is and i appreciate it if...</td>\n",
       "      <td>good morning my name is and i appreciate it if...</td>\n",
       "      <td>morning name stop bank cardmember service debt...</td>\n",
       "      <td>morning name stop bank cardmember service debt...</td>\n",
       "      <td>Mortgages/loans</td>\n",
       "    </tr>\n",
       "    <tr>\n",
       "      <th>2</th>\n",
       "      <td>i upgraded my card in and was told by the agen...</td>\n",
       "      <td>i upgraded my card in and wa told by the agent...</td>\n",
       "      <td>card agent upgrade anniversary date agent info...</td>\n",
       "      <td>card agent upgrade anniversary date agent info...</td>\n",
       "      <td>Bank account services</td>\n",
       "    </tr>\n",
       "    <tr>\n",
       "      <th>10</th>\n",
       "      <td>chase card was reported on however fraudulent ...</td>\n",
       "      <td>chase card wa reported on however fraudulent a...</td>\n",
       "      <td>chase card application identity consent servic...</td>\n",
       "      <td>chase card application identity consent servic...</td>\n",
       "      <td>Others</td>\n",
       "    </tr>\n",
       "    <tr>\n",
       "      <th>11</th>\n",
       "      <td>on while trying to book a ticket i came across...</td>\n",
       "      <td>on while trying to book a ticket i came across...</td>\n",
       "      <td>ticket offer ticket reward card information of...</td>\n",
       "      <td>ticket offer ticket reward card information of...</td>\n",
       "      <td>Others</td>\n",
       "    </tr>\n",
       "    <tr>\n",
       "      <th>14</th>\n",
       "      <td>my grand son give me check for i deposit it in...</td>\n",
       "      <td>my grand son give me check for i deposit it in...</td>\n",
       "      <td>son check chase account fund chase bank accoun...</td>\n",
       "      <td>son check chase account fund chase bank accoun...</td>\n",
       "      <td>Credit card / Prepaid card</td>\n",
       "    </tr>\n",
       "    <tr>\n",
       "      <th>...</th>\n",
       "      <td>...</td>\n",
       "      <td>...</td>\n",
       "      <td>...</td>\n",
       "      <td>...</td>\n",
       "      <td>...</td>\n",
       "    </tr>\n",
       "    <tr>\n",
       "      <th>78303</th>\n",
       "      <td>after being a chase card customer for well ove...</td>\n",
       "      <td>after being a chase card customer for well ove...</td>\n",
       "      <td>chase card customer decade wa solicitation cre...</td>\n",
       "      <td>chase card customer decade wa solicitation cre...</td>\n",
       "      <td>Others</td>\n",
       "    </tr>\n",
       "    <tr>\n",
       "      <th>78309</th>\n",
       "      <td>on wednesday i called chas my visa credit card...</td>\n",
       "      <td>on wednesday i called chas my visa credit card...</td>\n",
       "      <td>wednesday visa credit card provider claim purc...</td>\n",
       "      <td>wednesday visa credit card provider claim purc...</td>\n",
       "      <td>Bank account services</td>\n",
       "    </tr>\n",
       "    <tr>\n",
       "      <th>78310</th>\n",
       "      <td>i am not familiar with pay and did not underst...</td>\n",
       "      <td>i am not familiar with pay and did not underst...</td>\n",
       "      <td>pay risk consumer chase bank app chase year ba...</td>\n",
       "      <td>pay risk consumer chase bank app chase year ba...</td>\n",
       "      <td>Bank account services</td>\n",
       "    </tr>\n",
       "    <tr>\n",
       "      <th>78311</th>\n",
       "      <td>i have had flawless credit for yrs i ve had ch...</td>\n",
       "      <td>i have had flawless credit for yr i ve had cha...</td>\n",
       "      <td>credit yr chase credit card chase freedom prob...</td>\n",
       "      <td>credit yr chase credit card chase freedom prob...</td>\n",
       "      <td>Theft/Dispute reporting</td>\n",
       "    </tr>\n",
       "    <tr>\n",
       "      <th>78312</th>\n",
       "      <td>roughly years ago i closed out my accounts wit...</td>\n",
       "      <td>roughly year ago i closed out my account with ...</td>\n",
       "      <td>year account jp morgan chase bank order line c...</td>\n",
       "      <td>year account jp morgan chase bank order line c...</td>\n",
       "      <td>Theft/Dispute reporting</td>\n",
       "    </tr>\n",
       "  </tbody>\n",
       "</table>\n",
       "<p>21072 rows × 5 columns</p>\n",
       "</div>"
      ],
      "text/plain": [
       "                                              complaints  \\\n",
       "1      good morning my name is and i appreciate it if...   \n",
       "2      i upgraded my card in and was told by the agen...   \n",
       "10     chase card was reported on however fraudulent ...   \n",
       "11     on while trying to book a ticket i came across...   \n",
       "14     my grand son give me check for i deposit it in...   \n",
       "...                                                  ...   \n",
       "78303  after being a chase card customer for well ove...   \n",
       "78309  on wednesday i called chas my visa credit card...   \n",
       "78310  i am not familiar with pay and did not underst...   \n",
       "78311  i have had flawless credit for yrs i ve had ch...   \n",
       "78312  roughly years ago i closed out my accounts wit...   \n",
       "\n",
       "                                                   lemma  \\\n",
       "1      good morning my name is and i appreciate it if...   \n",
       "2      i upgraded my card in and wa told by the agent...   \n",
       "10     chase card wa reported on however fraudulent a...   \n",
       "11     on while trying to book a ticket i came across...   \n",
       "14     my grand son give me check for i deposit it in...   \n",
       "...                                                  ...   \n",
       "78303  after being a chase card customer for well ove...   \n",
       "78309  on wednesday i called chas my visa credit card...   \n",
       "78310  i am not familiar with pay and did not underst...   \n",
       "78311  i have had flawless credit for yr i ve had cha...   \n",
       "78312  roughly year ago i closed out my account with ...   \n",
       "\n",
       "                                   complaint_POS_removed  \\\n",
       "1      morning name stop bank cardmember service debt...   \n",
       "2      card agent upgrade anniversary date agent info...   \n",
       "10     chase card application identity consent servic...   \n",
       "11     ticket offer ticket reward card information of...   \n",
       "14     son check chase account fund chase bank accoun...   \n",
       "...                                                  ...   \n",
       "78303  chase card customer decade wa solicitation cre...   \n",
       "78309  wednesday visa credit card provider claim purc...   \n",
       "78310  pay risk consumer chase bank app chase year ba...   \n",
       "78311  credit yr chase credit card chase freedom prob...   \n",
       "78312  year account jp morgan chase bank order line c...   \n",
       "\n",
       "                                         Complaint_clean  \\\n",
       "1      morning name stop bank cardmember service debt...   \n",
       "2      card agent upgrade anniversary date agent info...   \n",
       "10     chase card application identity consent servic...   \n",
       "11     ticket offer ticket reward card information of...   \n",
       "14     son check chase account fund chase bank accoun...   \n",
       "...                                                  ...   \n",
       "78303  chase card customer decade wa solicitation cre...   \n",
       "78309  wednesday visa credit card provider claim purc...   \n",
       "78310  pay risk consumer chase bank app chase year ba...   \n",
       "78311  credit yr chase credit card chase freedom prob...   \n",
       "78312  year account jp morgan chase bank order line c...   \n",
       "\n",
       "                            Topic  \n",
       "1                 Mortgages/loans  \n",
       "2           Bank account services  \n",
       "10                         Others  \n",
       "11                         Others  \n",
       "14     Credit card / Prepaid card  \n",
       "...                           ...  \n",
       "78303                      Others  \n",
       "78309       Bank account services  \n",
       "78310       Bank account services  \n",
       "78311     Theft/Dispute reporting  \n",
       "78312     Theft/Dispute reporting  \n",
       "\n",
       "[21072 rows x 5 columns]"
      ]
     },
     "execution_count": 467,
     "metadata": {},
     "output_type": "execute_result"
    }
   ],
   "source": [
    "df_clean"
   ]
  },
  {
   "cell_type": "code",
   "execution_count": 468,
   "metadata": {},
   "outputs": [
    {
     "data": {
      "text/plain": [
       "(21072, 5)"
      ]
     },
     "execution_count": 468,
     "metadata": {},
     "output_type": "execute_result"
    }
   ],
   "source": [
    "df_clean.shape"
   ]
  },
  {
   "cell_type": "markdown",
   "metadata": {
    "id": "7Mu0QBOcJrGH"
   },
   "source": [
    "## Supervised model to predict any new complaints to the relevant Topics.\n",
    "\n",
    "You have now build the model to create the topics for each complaints.Now in the below section you will use them to classify any new complaints.\n",
    "\n",
    "Since you will be using supervised learning technique we have to convert the topic names to numbers(numpy arrays only understand numbers)"
   ]
  },
  {
   "cell_type": "code",
   "execution_count": 469,
   "metadata": {
    "id": "_U8J3J8wJrGH"
   },
   "outputs": [],
   "source": [
    "#Create the dictionary again of Topic names and Topics\n",
    "\n",
    "# Topic_names = {0:'Bank account services', 1:'Others', 2:'Mortgages/loans', 3:'Credit card / Prepaid card', 4:'Theft/Dispute reporting'}\n",
    "\n",
    "Topic_names = {'Bank account services':0, 'Others':1, 'Mortgages/loans':2, 'Credit card / Prepaid card':3, 'Theft/Dispute reporting':4}\n",
    "\n",
    "\n",
    "#Replace Topics with Topic Names\n",
    "df_clean['Topic'] = df_clean['Topic'].map(Topic_names)"
   ]
  },
  {
   "cell_type": "code",
   "execution_count": 470,
   "metadata": {
    "id": "BWIgJUkQJrGH"
   },
   "outputs": [
    {
     "data": {
      "text/html": [
       "<div>\n",
       "<style scoped>\n",
       "    .dataframe tbody tr th:only-of-type {\n",
       "        vertical-align: middle;\n",
       "    }\n",
       "\n",
       "    .dataframe tbody tr th {\n",
       "        vertical-align: top;\n",
       "    }\n",
       "\n",
       "    .dataframe thead th {\n",
       "        text-align: right;\n",
       "    }\n",
       "</style>\n",
       "<table border=\"1\" class=\"dataframe\">\n",
       "  <thead>\n",
       "    <tr style=\"text-align: right;\">\n",
       "      <th></th>\n",
       "      <th>complaints</th>\n",
       "      <th>lemma</th>\n",
       "      <th>complaint_POS_removed</th>\n",
       "      <th>Complaint_clean</th>\n",
       "      <th>Topic</th>\n",
       "    </tr>\n",
       "  </thead>\n",
       "  <tbody>\n",
       "    <tr>\n",
       "      <th>1</th>\n",
       "      <td>good morning my name is and i appreciate it if...</td>\n",
       "      <td>good morning my name is and i appreciate it if...</td>\n",
       "      <td>morning name stop bank cardmember service debt...</td>\n",
       "      <td>morning name stop bank cardmember service debt...</td>\n",
       "      <td>2</td>\n",
       "    </tr>\n",
       "    <tr>\n",
       "      <th>2</th>\n",
       "      <td>i upgraded my card in and was told by the agen...</td>\n",
       "      <td>i upgraded my card in and wa told by the agent...</td>\n",
       "      <td>card agent upgrade anniversary date agent info...</td>\n",
       "      <td>card agent upgrade anniversary date agent info...</td>\n",
       "      <td>0</td>\n",
       "    </tr>\n",
       "    <tr>\n",
       "      <th>10</th>\n",
       "      <td>chase card was reported on however fraudulent ...</td>\n",
       "      <td>chase card wa reported on however fraudulent a...</td>\n",
       "      <td>chase card application identity consent servic...</td>\n",
       "      <td>chase card application identity consent servic...</td>\n",
       "      <td>1</td>\n",
       "    </tr>\n",
       "    <tr>\n",
       "      <th>11</th>\n",
       "      <td>on while trying to book a ticket i came across...</td>\n",
       "      <td>on while trying to book a ticket i came across...</td>\n",
       "      <td>ticket offer ticket reward card information of...</td>\n",
       "      <td>ticket offer ticket reward card information of...</td>\n",
       "      <td>1</td>\n",
       "    </tr>\n",
       "    <tr>\n",
       "      <th>14</th>\n",
       "      <td>my grand son give me check for i deposit it in...</td>\n",
       "      <td>my grand son give me check for i deposit it in...</td>\n",
       "      <td>son check chase account fund chase bank accoun...</td>\n",
       "      <td>son check chase account fund chase bank accoun...</td>\n",
       "      <td>3</td>\n",
       "    </tr>\n",
       "    <tr>\n",
       "      <th>...</th>\n",
       "      <td>...</td>\n",
       "      <td>...</td>\n",
       "      <td>...</td>\n",
       "      <td>...</td>\n",
       "      <td>...</td>\n",
       "    </tr>\n",
       "    <tr>\n",
       "      <th>78303</th>\n",
       "      <td>after being a chase card customer for well ove...</td>\n",
       "      <td>after being a chase card customer for well ove...</td>\n",
       "      <td>chase card customer decade wa solicitation cre...</td>\n",
       "      <td>chase card customer decade wa solicitation cre...</td>\n",
       "      <td>1</td>\n",
       "    </tr>\n",
       "    <tr>\n",
       "      <th>78309</th>\n",
       "      <td>on wednesday i called chas my visa credit card...</td>\n",
       "      <td>on wednesday i called chas my visa credit card...</td>\n",
       "      <td>wednesday visa credit card provider claim purc...</td>\n",
       "      <td>wednesday visa credit card provider claim purc...</td>\n",
       "      <td>0</td>\n",
       "    </tr>\n",
       "    <tr>\n",
       "      <th>78310</th>\n",
       "      <td>i am not familiar with pay and did not underst...</td>\n",
       "      <td>i am not familiar with pay and did not underst...</td>\n",
       "      <td>pay risk consumer chase bank app chase year ba...</td>\n",
       "      <td>pay risk consumer chase bank app chase year ba...</td>\n",
       "      <td>0</td>\n",
       "    </tr>\n",
       "    <tr>\n",
       "      <th>78311</th>\n",
       "      <td>i have had flawless credit for yrs i ve had ch...</td>\n",
       "      <td>i have had flawless credit for yr i ve had cha...</td>\n",
       "      <td>credit yr chase credit card chase freedom prob...</td>\n",
       "      <td>credit yr chase credit card chase freedom prob...</td>\n",
       "      <td>4</td>\n",
       "    </tr>\n",
       "    <tr>\n",
       "      <th>78312</th>\n",
       "      <td>roughly years ago i closed out my accounts wit...</td>\n",
       "      <td>roughly year ago i closed out my account with ...</td>\n",
       "      <td>year account jp morgan chase bank order line c...</td>\n",
       "      <td>year account jp morgan chase bank order line c...</td>\n",
       "      <td>4</td>\n",
       "    </tr>\n",
       "  </tbody>\n",
       "</table>\n",
       "<p>21072 rows × 5 columns</p>\n",
       "</div>"
      ],
      "text/plain": [
       "                                              complaints  \\\n",
       "1      good morning my name is and i appreciate it if...   \n",
       "2      i upgraded my card in and was told by the agen...   \n",
       "10     chase card was reported on however fraudulent ...   \n",
       "11     on while trying to book a ticket i came across...   \n",
       "14     my grand son give me check for i deposit it in...   \n",
       "...                                                  ...   \n",
       "78303  after being a chase card customer for well ove...   \n",
       "78309  on wednesday i called chas my visa credit card...   \n",
       "78310  i am not familiar with pay and did not underst...   \n",
       "78311  i have had flawless credit for yrs i ve had ch...   \n",
       "78312  roughly years ago i closed out my accounts wit...   \n",
       "\n",
       "                                                   lemma  \\\n",
       "1      good morning my name is and i appreciate it if...   \n",
       "2      i upgraded my card in and wa told by the agent...   \n",
       "10     chase card wa reported on however fraudulent a...   \n",
       "11     on while trying to book a ticket i came across...   \n",
       "14     my grand son give me check for i deposit it in...   \n",
       "...                                                  ...   \n",
       "78303  after being a chase card customer for well ove...   \n",
       "78309  on wednesday i called chas my visa credit card...   \n",
       "78310  i am not familiar with pay and did not underst...   \n",
       "78311  i have had flawless credit for yr i ve had cha...   \n",
       "78312  roughly year ago i closed out my account with ...   \n",
       "\n",
       "                                   complaint_POS_removed  \\\n",
       "1      morning name stop bank cardmember service debt...   \n",
       "2      card agent upgrade anniversary date agent info...   \n",
       "10     chase card application identity consent servic...   \n",
       "11     ticket offer ticket reward card information of...   \n",
       "14     son check chase account fund chase bank accoun...   \n",
       "...                                                  ...   \n",
       "78303  chase card customer decade wa solicitation cre...   \n",
       "78309  wednesday visa credit card provider claim purc...   \n",
       "78310  pay risk consumer chase bank app chase year ba...   \n",
       "78311  credit yr chase credit card chase freedom prob...   \n",
       "78312  year account jp morgan chase bank order line c...   \n",
       "\n",
       "                                         Complaint_clean  Topic  \n",
       "1      morning name stop bank cardmember service debt...      2  \n",
       "2      card agent upgrade anniversary date agent info...      0  \n",
       "10     chase card application identity consent servic...      1  \n",
       "11     ticket offer ticket reward card information of...      1  \n",
       "14     son check chase account fund chase bank accoun...      3  \n",
       "...                                                  ...    ...  \n",
       "78303  chase card customer decade wa solicitation cre...      1  \n",
       "78309  wednesday visa credit card provider claim purc...      0  \n",
       "78310  pay risk consumer chase bank app chase year ba...      0  \n",
       "78311  credit yr chase credit card chase freedom prob...      4  \n",
       "78312  year account jp morgan chase bank order line c...      4  \n",
       "\n",
       "[21072 rows x 5 columns]"
      ]
     },
     "execution_count": 470,
     "metadata": {},
     "output_type": "execute_result"
    }
   ],
   "source": [
    "df_clean"
   ]
  },
  {
   "cell_type": "code",
   "execution_count": 471,
   "metadata": {},
   "outputs": [
    {
     "data": {
      "text/plain": [
       "(21072, 5)"
      ]
     },
     "execution_count": 471,
     "metadata": {},
     "output_type": "execute_result"
    }
   ],
   "source": [
    "df_clean.shape"
   ]
  },
  {
   "cell_type": "code",
   "execution_count": 472,
   "metadata": {
    "id": "Xx-FrbkWJrGH"
   },
   "outputs": [],
   "source": [
    "#Keep the columns\"complaint_what_happened\" & \"Topic\" only in the new dataframe --> training_data\n",
    "training_data = df_clean.drop(['lemma', 'complaint_POS_removed', 'Complaint_clean'], axis=1)"
   ]
  },
  {
   "cell_type": "code",
   "execution_count": 473,
   "metadata": {
    "id": "lVg2pa12JrGI"
   },
   "outputs": [
    {
     "data": {
      "text/html": [
       "<div>\n",
       "<style scoped>\n",
       "    .dataframe tbody tr th:only-of-type {\n",
       "        vertical-align: middle;\n",
       "    }\n",
       "\n",
       "    .dataframe tbody tr th {\n",
       "        vertical-align: top;\n",
       "    }\n",
       "\n",
       "    .dataframe thead th {\n",
       "        text-align: right;\n",
       "    }\n",
       "</style>\n",
       "<table border=\"1\" class=\"dataframe\">\n",
       "  <thead>\n",
       "    <tr style=\"text-align: right;\">\n",
       "      <th></th>\n",
       "      <th>complaints</th>\n",
       "      <th>Topic</th>\n",
       "    </tr>\n",
       "  </thead>\n",
       "  <tbody>\n",
       "    <tr>\n",
       "      <th>1</th>\n",
       "      <td>good morning my name is and i appreciate it if...</td>\n",
       "      <td>2</td>\n",
       "    </tr>\n",
       "    <tr>\n",
       "      <th>2</th>\n",
       "      <td>i upgraded my card in and was told by the agen...</td>\n",
       "      <td>0</td>\n",
       "    </tr>\n",
       "    <tr>\n",
       "      <th>10</th>\n",
       "      <td>chase card was reported on however fraudulent ...</td>\n",
       "      <td>1</td>\n",
       "    </tr>\n",
       "    <tr>\n",
       "      <th>11</th>\n",
       "      <td>on while trying to book a ticket i came across...</td>\n",
       "      <td>1</td>\n",
       "    </tr>\n",
       "    <tr>\n",
       "      <th>14</th>\n",
       "      <td>my grand son give me check for i deposit it in...</td>\n",
       "      <td>3</td>\n",
       "    </tr>\n",
       "    <tr>\n",
       "      <th>...</th>\n",
       "      <td>...</td>\n",
       "      <td>...</td>\n",
       "    </tr>\n",
       "    <tr>\n",
       "      <th>78303</th>\n",
       "      <td>after being a chase card customer for well ove...</td>\n",
       "      <td>1</td>\n",
       "    </tr>\n",
       "    <tr>\n",
       "      <th>78309</th>\n",
       "      <td>on wednesday i called chas my visa credit card...</td>\n",
       "      <td>0</td>\n",
       "    </tr>\n",
       "    <tr>\n",
       "      <th>78310</th>\n",
       "      <td>i am not familiar with pay and did not underst...</td>\n",
       "      <td>0</td>\n",
       "    </tr>\n",
       "    <tr>\n",
       "      <th>78311</th>\n",
       "      <td>i have had flawless credit for yrs i ve had ch...</td>\n",
       "      <td>4</td>\n",
       "    </tr>\n",
       "    <tr>\n",
       "      <th>78312</th>\n",
       "      <td>roughly years ago i closed out my accounts wit...</td>\n",
       "      <td>4</td>\n",
       "    </tr>\n",
       "  </tbody>\n",
       "</table>\n",
       "<p>21072 rows × 2 columns</p>\n",
       "</div>"
      ],
      "text/plain": [
       "                                              complaints  Topic\n",
       "1      good morning my name is and i appreciate it if...      2\n",
       "2      i upgraded my card in and was told by the agen...      0\n",
       "10     chase card was reported on however fraudulent ...      1\n",
       "11     on while trying to book a ticket i came across...      1\n",
       "14     my grand son give me check for i deposit it in...      3\n",
       "...                                                  ...    ...\n",
       "78303  after being a chase card customer for well ove...      1\n",
       "78309  on wednesday i called chas my visa credit card...      0\n",
       "78310  i am not familiar with pay and did not underst...      0\n",
       "78311  i have had flawless credit for yrs i ve had ch...      4\n",
       "78312  roughly years ago i closed out my accounts wit...      4\n",
       "\n",
       "[21072 rows x 2 columns]"
      ]
     },
     "execution_count": 473,
     "metadata": {},
     "output_type": "execute_result"
    }
   ],
   "source": [
    "training_data"
   ]
  },
  {
   "cell_type": "markdown",
   "metadata": {
    "id": "280Vbqk-7a8M"
   },
   "source": [
    "####Apply the supervised models on the training data created. In this process, you have to do the following:\n",
    "* Create the vector counts using Count Vectoriser\n",
    "* Transform the word vecotr to tf-idf\n",
    "* Create the train & test data using the train_test_split on the tf-idf & topics\n"
   ]
  },
  {
   "cell_type": "code",
   "execution_count": 474,
   "metadata": {
    "id": "oUlQpgkzJrGI"
   },
   "outputs": [],
   "source": [
    "# Write your code to get the Vector count\n",
    "count_vect = CountVectorizer()\n",
    "X_train_counts = count_vect.fit_transform(training_data.complaints)\n",
    "X_train_counts\n",
    "# Write your code here to transform the word vector to tf-idf\n",
    "tfidf_transformer = TfidfTransformer()\n",
    "X_train_tfidf = tfidf_transformer.fit_transform(X_train_counts)"
   ]
  },
  {
   "cell_type": "markdown",
   "metadata": {
    "id": "uMU3vj6w-wqL"
   },
   "source": [
    "You have to try atleast 3 models on the train & test data from these options:\n",
    "* Logistic regression\n",
    "* Decision Tree\n",
    "* Random Forest\n",
    "* Naive Bayes (optional)\n",
    "\n",
    "**Using the required evaluation metrics judge the tried models and select the ones performing the best**"
   ]
  },
  {
   "cell_type": "code",
   "execution_count": 475,
   "metadata": {},
   "outputs": [],
   "source": [
    "from sklearn.model_selection import train_test_split\n",
    "from sklearn.linear_model import LogisticRegression\n",
    "from sklearn.tree import DecisionTreeClassifier\n",
    "from sklearn.ensemble import RandomForestClassifier\n",
    "from sklearn.naive_bayes import GaussianNB\n",
    "\n",
    "from sklearn.metrics import classification_report"
   ]
  },
  {
   "cell_type": "markdown",
   "metadata": {},
   "source": [
    "# Lets us split the data for the process"
   ]
  },
  {
   "cell_type": "code",
   "execution_count": 476,
   "metadata": {},
   "outputs": [],
   "source": [
    "X_train, X_test, y_train, y_test = train_test_split(X_train_tfidf, training_data.Topic, test_size=0.2, random_state=42)"
   ]
  },
  {
   "cell_type": "markdown",
   "metadata": {
    "id": "udLHpPsZJrGI"
   },
   "source": [
    "# Write your code here to build any 3 models and evaluate them using the required metrics"
   ]
  },
  {
   "cell_type": "markdown",
   "metadata": {},
   "source": [
    "## Logistic Regression"
   ]
  },
  {
   "cell_type": "code",
   "execution_count": 477,
   "metadata": {},
   "outputs": [
    {
     "name": "stderr",
     "output_type": "stream",
     "text": [
      "/home/rakeshpc/.local/lib/python3.8/site-packages/sklearn/linear_model/_logistic.py:814: ConvergenceWarning:\n",
      "\n",
      "lbfgs failed to converge (status=1):\n",
      "STOP: TOTAL NO. of ITERATIONS REACHED LIMIT.\n",
      "\n",
      "Increase the number of iterations (max_iter) or scale the data as shown in:\n",
      "    https://scikit-learn.org/stable/modules/preprocessing.html\n",
      "Please also refer to the documentation for alternative solver options:\n",
      "    https://scikit-learn.org/stable/modules/linear_model.html#logistic-regression\n",
      "\n"
     ]
    },
    {
     "name": "stdout",
     "output_type": "stream",
     "text": [
      "ROC AUC Score Train: 1.0\n",
      "ROC AUC Score Test: 1.0\n",
      "Train Accuracy : 0.99\n",
      "Test Accuracy : 0.95\n",
      "Classification Report for Train:\n",
      "               precision    recall  f1-score   support\n",
      "\n",
      "           0       0.98      0.99      0.99      3690\n",
      "           1       0.99      0.99      0.99      3476\n",
      "           2       0.99      0.99      0.99      3118\n",
      "           3       0.99      1.00      0.99      4469\n",
      "           4       0.99      0.97      0.98      2104\n",
      "\n",
      "    accuracy                           0.99     16857\n",
      "   macro avg       0.99      0.99      0.99     16857\n",
      "weighted avg       0.99      0.99      0.99     16857\n",
      "\n",
      "Classification Report for Test:\n",
      "               precision    recall  f1-score   support\n",
      "\n",
      "           0       0.94      0.96      0.95       947\n",
      "           1       0.96      0.96      0.96       912\n",
      "           2       0.98      0.95      0.96       714\n",
      "           3       0.94      0.98      0.96      1122\n",
      "           4       0.97      0.90      0.93       520\n",
      "\n",
      "    accuracy                           0.95      4215\n",
      "   macro avg       0.96      0.95      0.95      4215\n",
      "weighted avg       0.95      0.95      0.95      4215\n",
      "\n"
     ]
    },
    {
     "data": {
      "image/png": "[encoded data removed]",
      "text/plain": [
       "<Figure size 864x576 with 2 Axes>"
      ]
     },
     "metadata": {
      "needs_background": "light"
     },
     "output_type": "display_data"
    },
    {
     "name": "stdout",
     "output_type": "stream",
     "text": [
      "None\n"
     ]
    }
   ],
   "source": [
    "lr = LogisticRegression().fit(X_train, y_train)\n",
    "predicted = lr.predict(X_test)\n",
    "mt=[]\n",
    "print(display_classification_report(lr,mt))"
   ]
  },
  {
   "cell_type": "markdown",
   "metadata": {},
   "source": [
    "## Decision Tree"
   ]
  },
  {
   "cell_type": "code",
   "execution_count": 478,
   "metadata": {},
   "outputs": [
    {
     "name": "stdout",
     "output_type": "stream",
     "text": [
      "              precision    recall  f1-score   support\n",
      "\n",
      "           0       0.74      0.71      0.72       947\n",
      "           1       0.80      0.80      0.80       912\n",
      "           2       0.79      0.84      0.81       714\n",
      "           3       0.79      0.79      0.79      1122\n",
      "           4       0.71      0.69      0.70       520\n",
      "\n",
      "    accuracy                           0.77      4215\n",
      "   macro avg       0.76      0.77      0.76      4215\n",
      "weighted avg       0.77      0.77      0.77      4215\n",
      "\n"
     ]
    }
   ],
   "source": [
    "# Decision tree classifier\n",
    "dt = DecisionTreeClassifier().fit(X_train, y_train)\n",
    "predicted = dt.predict(X_test)\n",
    "\n",
    "print(classification_report(y_pred=predicted, y_true=y_test))"
   ]
  },
  {
   "cell_type": "markdown",
   "metadata": {
    "id": "N2OznsObJrGP"
   },
   "source": [
    "## Random Forest"
   ]
  },
  {
   "cell_type": "code",
   "execution_count": 479,
   "metadata": {},
   "outputs": [
    {
     "name": "stdout",
     "output_type": "stream",
     "text": [
      "              precision    recall  f1-score   support\n",
      "\n",
      "           0       0.82      0.68      0.75       947\n",
      "           1       0.76      0.83      0.79       912\n",
      "           2       0.89      0.77      0.82       714\n",
      "           3       0.62      0.97      0.75      1122\n",
      "           4       0.96      0.10      0.18       520\n",
      "\n",
      "    accuracy                           0.73      4215\n",
      "   macro avg       0.81      0.67      0.66      4215\n",
      "weighted avg       0.78      0.73      0.70      4215\n",
      "\n"
     ]
    }
   ],
   "source": [
    "rfc = RandomForestClassifier(max_depth=10)\n",
    "rfc.fit(X_train, y_train)\n",
    "predicted = rfc.predict(X_test)\n",
    "\n",
    "print(classification_report(y_pred=predicted, y_true=y_test))"
   ]
  },
  {
   "cell_type": "markdown",
   "metadata": {},
   "source": [
    "## Naive Bayes (optional)"
   ]
  },
  {
   "cell_type": "code",
   "execution_count": 480,
   "metadata": {},
   "outputs": [
    {
     "name": "stdout",
     "output_type": "stream",
     "text": [
      "              precision    recall  f1-score   support\n",
      "\n",
      "           0       0.49      0.34      0.40       947\n",
      "           1       0.35      0.27      0.30       912\n",
      "           2       0.52      0.50      0.51       714\n",
      "           3       0.46      0.30      0.37      1122\n",
      "           4       0.18      0.51      0.27       520\n",
      "\n",
      "    accuracy                           0.36      4215\n",
      "   macro avg       0.40      0.38      0.37      4215\n",
      "weighted avg       0.42      0.36      0.37      4215\n",
      "\n"
     ]
    }
   ],
   "source": [
    "nb = GaussianNB().fit(X_train.toarray(), y_train)\n",
    "predicted = nb.predict(X_test.toarray())\n",
    "\n",
    "print(classification_report(y_pred=predicted, y_true=y_test))"
   ]
  },
  {
   "cell_type": "markdown",
   "metadata": {},
   "source": [
    "## We have seen that logistic regression is performing better as compared to other models \n",
    "## Now lets test it on a sample test data"
   ]
  },
  {
   "cell_type": "code",
   "execution_count": 481,
   "metadata": {},
   "outputs": [
    {
     "data": {
      "text/html": [
       "<div>\n",
       "<style scoped>\n",
       "    .dataframe tbody tr th:only-of-type {\n",
       "        vertical-align: middle;\n",
       "    }\n",
       "\n",
       "    .dataframe tbody tr th {\n",
       "        vertical-align: top;\n",
       "    }\n",
       "\n",
       "    .dataframe thead th {\n",
       "        text-align: right;\n",
       "    }\n",
       "</style>\n",
       "<table border=\"1\" class=\"dataframe\">\n",
       "  <thead>\n",
       "    <tr style=\"text-align: right;\">\n",
       "      <th></th>\n",
       "      <th>complaints</th>\n",
       "    </tr>\n",
       "  </thead>\n",
       "  <tbody>\n",
       "    <tr>\n",
       "      <th>0</th>\n",
       "      <td>I tried to make a transaction at a supermarket...</td>\n",
       "    </tr>\n",
       "  </tbody>\n",
       "</table>\n",
       "</div>"
      ],
      "text/plain": [
       "                                          complaints\n",
       "0  I tried to make a transaction at a supermarket..."
      ]
     },
     "execution_count": 481,
     "metadata": {},
     "output_type": "execute_result"
    }
   ],
   "source": [
    "# raw complaint data to be tested\n",
    "test_complaint= 'I tried to make a transaction at a supermarket retail store, using my chase \\\n",
    "debit/atm card, but the transaction was declined. I am still able to withdraw money out of an \\\n",
    "ATM machine using the same debit card. Please resolve this issue.'\n",
    "\n",
    "test_complaints = pd.DataFrame({'complaints': [\"I tried to make a transaction at a supermarket retail store, using my chase \\\n",
    "debit/atm card, but the transaction was declined. I am still able to withdraw money out of an \\\n",
    "ATM machine using the same debit card. Please resolve this issue\"]})\n",
    "\n",
    "test_complaints"
   ]
  },
  {
   "cell_type": "code",
   "execution_count": 482,
   "metadata": {},
   "outputs": [],
   "source": [
    "def predict_lr_performance(text):\n",
    "    Topic_names = {0:'Bank account services', 1:'Others', 2:'Mortgages/loans', 3:'Credit card / Prepaid card', 4:'Theft/Dispute reporting'}\n",
    "    X_new_counts = count_vect.transform(text)\n",
    "    X_new_tfidf = tfidf_transformer.transform(X_new_counts)\n",
    "    predicted = lr.predict(X_new_tfidf)\n",
    "    return Topic_names[predicted[0]]"
   ]
  },
  {
   "cell_type": "code",
   "execution_count": 484,
   "metadata": {},
   "outputs": [
    {
     "data": {
      "text/html": [
       "<div>\n",
       "<style scoped>\n",
       "    .dataframe tbody tr th:only-of-type {\n",
       "        vertical-align: middle;\n",
       "    }\n",
       "\n",
       "    .dataframe tbody tr th {\n",
       "        vertical-align: top;\n",
       "    }\n",
       "\n",
       "    .dataframe thead th {\n",
       "        text-align: right;\n",
       "    }\n",
       "</style>\n",
       "<table border=\"1\" class=\"dataframe\">\n",
       "  <thead>\n",
       "    <tr style=\"text-align: right;\">\n",
       "      <th></th>\n",
       "      <th>complaints</th>\n",
       "      <th>tag</th>\n",
       "    </tr>\n",
       "  </thead>\n",
       "  <tbody>\n",
       "    <tr>\n",
       "      <th>0</th>\n",
       "      <td>I tried to make a transaction at a supermarket...</td>\n",
       "      <td>Bank account services</td>\n",
       "    </tr>\n",
       "  </tbody>\n",
       "</table>\n",
       "</div>"
      ],
      "text/plain": [
       "                                          complaints                    tag\n",
       "0  I tried to make a transaction at a supermarket...  Bank account services"
      ]
     },
     "execution_count": 484,
     "metadata": {},
     "output_type": "execute_result"
    }
   ],
   "source": [
    "test_complaints['tag'] = test_complaints['complaints'].apply(lambda x: predict_lr_performance([x]))\n",
    "test_complaints"
   ]
  },
  {
   "cell_type": "markdown",
   "metadata": {},
   "source": [
    "## Conclusion\n",
    "    \n",
    "* **As expected 5 topics were indetified namely:**\n",
    "    1. Bank account services\n",
    "    2. Others\n",
    "    3. Mortgages/loans\n",
    "    4. Credit card / Prepaid card\n",
    "    5. Theft/Dispute reporting"
   ]
  },
  {
   "cell_type": "markdown",
   "metadata": {},
   "source": [
    "* **As expected 5 topics were indetified namely:**\n",
    "####  Model                     Accuracy\n",
    "### Logistic Regression 95\n",
    "### Decision Tree       77\n",
    "### Random Forest       73\n",
    "### Naive Byes          36"
   ]
  },
  {
   "cell_type": "code",
   "execution_count": null,
   "metadata": {},
   "outputs": [],
   "source": []
  }
 ],
 "metadata": {
  "colab": {
   "collapsed_sections": [
    "T9jD_6SeJrF3",
    "5DfCSbbmJrF4",
    "yYzD85nTJrGA",
    "piyLxzj6v07j",
    "280Vbqk-7a8M"
   ],
   "provenance": []
  },
  "kernelspec": {
   "display_name": "Python 3 (ipykernel)",
   "language": "python",
   "name": "python3"
  },
  "language_info": {
   "codemirror_mode": {
    "name": "ipython",
    "version": 3
   },
   "file_extension": ".py",
   "mimetype": "text/x-python",
   "name": "python",
   "nbconvert_exporter": "python",
   "pygments_lexer": "ipython3",
   "version": "3.8.10"
  }
 },
 "nbformat": 4,
 "nbformat_minor": 4
}
